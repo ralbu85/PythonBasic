{
 "cells": [
  {
   "cell_type": "markdown",
   "id": "ae44ecca-539e-48c7-a593-eca6bfe33715",
   "metadata": {},
   "source": [
    "## 딕셔너리 자료형"
   ]
  },
  {
   "cell_type": "markdown",
   "id": "91a652cc-0b64-4402-962a-41e9c32c6379",
   "metadata": {
    "tags": []
   },
   "source": [
    "```python\n",
    "my_dict = {key1: value1, key2: value2, ...}\n",
    "\n"
   ]
  },
  {
   "cell_type": "markdown",
   "id": "95f77bc4",
   "metadata": {},
   "source": [
    "## 8-1. 딕셔너리 자료형"
   ]
  },
  {
   "cell_type": "code",
   "execution_count": 1,
   "id": "146fef97",
   "metadata": {},
   "outputs": [
    {
     "data": {
      "text/plain": [
       "{'a': 10, 'b': 20, 'c': 30}"
      ]
     },
     "execution_count": 1,
     "metadata": {},
     "output_type": "execute_result"
    }
   ],
   "source": [
    "{\"a\":10, \"b\":20, \"c\":30}"
   ]
  },
  {
   "cell_type": "code",
   "execution_count": 2,
   "id": "c51ca43c",
   "metadata": {},
   "outputs": [
    {
     "name": "stdout",
     "output_type": "stream",
     "text": [
      "{'a': 10, 'b': 20, 'c': 30}\n"
     ]
    }
   ],
   "source": [
    "x={\"a\":10, \"b\":20, \"c\":30}\n",
    "print(x)"
   ]
  },
  {
   "cell_type": "markdown",
   "id": "1030be25",
   "metadata": {},
   "source": [
    "## 8-2. key를 이용해 value 호출"
   ]
  },
  {
   "cell_type": "code",
   "execution_count": 3,
   "id": "37bc31ca",
   "metadata": {},
   "outputs": [
    {
     "name": "stdout",
     "output_type": "stream",
     "text": [
      "10\n"
     ]
    }
   ],
   "source": [
    "print(x['a'])"
   ]
  },
  {
   "cell_type": "code",
   "execution_count": 4,
   "id": "3182a4d1",
   "metadata": {},
   "outputs": [
    {
     "name": "stdout",
     "output_type": "stream",
     "text": [
      "20\n"
     ]
    }
   ],
   "source": [
    "print(x['b'])"
   ]
  },
  {
   "cell_type": "markdown",
   "id": "9b332cf2",
   "metadata": {},
   "source": [
    "## 8-3. 딕셔너리 갱신, 추가, 삭제"
   ]
  },
  {
   "cell_type": "code",
   "execution_count": 5,
   "id": "f2f9c6b2",
   "metadata": {},
   "outputs": [
    {
     "name": "stdout",
     "output_type": "stream",
     "text": [
      "{'a': 10, 'b': 20, 'c': 30, 'd': 40}\n"
     ]
    }
   ],
   "source": [
    "# 추가\n",
    "x['d']=40\n",
    "print(x)"
   ]
  },
  {
   "cell_type": "code",
   "execution_count": 6,
   "id": "51489f5f",
   "metadata": {},
   "outputs": [
    {
     "name": "stdout",
     "output_type": "stream",
     "text": [
      "{'a': 15, 'b': 20, 'c': 30, 'd': 40}\n"
     ]
    }
   ],
   "source": [
    "# 수정\n",
    "x['a']=15\n",
    "print(x)"
   ]
  },
  {
   "cell_type": "code",
   "execution_count": 7,
   "id": "2984c85e",
   "metadata": {},
   "outputs": [
    {
     "name": "stdout",
     "output_type": "stream",
     "text": [
      "{'a': 15, 'b': 20, 'd': 40}\n"
     ]
    }
   ],
   "source": [
    "# 삭제\n",
    "del x['c']\n",
    "print(x)"
   ]
  },
  {
   "cell_type": "markdown",
   "id": "bbe66c8f-c046-4408-8538-df1d79ec6d01",
   "metadata": {},
   "source": [
    "## 연습문제\n",
    "* 지금 정의된 x를 사용한다\n",
    "    - ['a','a','b','b','c','c']\n",
    "    - 위 키값 리스트에 대응하는 밸류값으로 이루어진 리스트를 출력해보시오\n",
    "    - [15,15,20,20,40,40]"
   ]
  },
  {
   "cell_type": "markdown",
   "id": "e9cc17d1",
   "metadata": {},
   "source": [
    "## 8-4. 키가 있는지 확인"
   ]
  },
  {
   "cell_type": "code",
   "execution_count": 8,
   "id": "420d1dab",
   "metadata": {},
   "outputs": [
    {
     "name": "stdout",
     "output_type": "stream",
     "text": [
      "{'a': 15, 'b': 20, 'd': 40}\n"
     ]
    }
   ],
   "source": [
    "print(x)"
   ]
  },
  {
   "cell_type": "code",
   "execution_count": 9,
   "id": "654848cf",
   "metadata": {},
   "outputs": [
    {
     "data": {
      "text/plain": [
       "True"
      ]
     },
     "execution_count": 9,
     "metadata": {},
     "output_type": "execute_result"
    }
   ],
   "source": [
    "'a' in x"
   ]
  },
  {
   "cell_type": "code",
   "execution_count": 10,
   "id": "1b88bb5c",
   "metadata": {},
   "outputs": [
    {
     "data": {
      "text/plain": [
       "False"
      ]
     },
     "execution_count": 10,
     "metadata": {},
     "output_type": "execute_result"
    }
   ],
   "source": [
    "'c' in x"
   ]
  },
  {
   "cell_type": "markdown",
   "id": "549b3d06",
   "metadata": {},
   "source": [
    "## 8-5. 딕셔너리와 반복 (키)"
   ]
  },
  {
   "cell_type": "code",
   "execution_count": 12,
   "id": "f8951efb",
   "metadata": {},
   "outputs": [
    {
     "name": "stdout",
     "output_type": "stream",
     "text": [
      "a\n",
      "b\n"
     ]
    }
   ],
   "source": [
    "for i in x:\n",
    "    print(i)"
   ]
  },
  {
   "cell_type": "code",
   "execution_count": 13,
   "id": "aa391535",
   "metadata": {},
   "outputs": [
    {
     "data": {
      "text/plain": [
       "dict_keys(['a', 'b'])"
      ]
     },
     "execution_count": 13,
     "metadata": {},
     "output_type": "execute_result"
    }
   ],
   "source": [
    "x.keys()"
   ]
  },
  {
   "cell_type": "code",
   "execution_count": 14,
   "id": "88cf1100",
   "metadata": {},
   "outputs": [
    {
     "name": "stdout",
     "output_type": "stream",
     "text": [
      "a\n",
      "b\n"
     ]
    }
   ],
   "source": [
    "for i in x.keys():\n",
    "    print(i)"
   ]
  },
  {
   "cell_type": "code",
   "execution_count": 16,
   "id": "4b692066",
   "metadata": {},
   "outputs": [
    {
     "name": "stdout",
     "output_type": "stream",
     "text": [
      "15\n",
      "20\n"
     ]
    }
   ],
   "source": [
    "for i in x:\n",
    "    print(x[i])"
   ]
  },
  {
   "cell_type": "markdown",
   "id": "48d234e7-d5df-477c-975a-3041b9c1028d",
   "metadata": {},
   "source": [
    "## 딕셔너리와 반복2"
   ]
  },
  {
   "cell_type": "code",
   "execution_count": 16,
   "id": "7e34daa7-87d5-48b7-aee0-a318b282e26c",
   "metadata": {},
   "outputs": [
    {
     "data": {
      "text/plain": [
       "dict_values([15, 20, 40])"
      ]
     },
     "execution_count": 16,
     "metadata": {},
     "output_type": "execute_result"
    }
   ],
   "source": [
    "x.values()"
   ]
  },
  {
   "cell_type": "code",
   "execution_count": 17,
   "id": "c3d3630c-cb66-464c-8629-f186c2bdf1ca",
   "metadata": {},
   "outputs": [
    {
     "name": "stdout",
     "output_type": "stream",
     "text": [
      "15 a\n",
      "20 b\n",
      "40 d\n"
     ]
    }
   ],
   "source": [
    "for key,value in x.items():\n",
    "    print(value, key)"
   ]
  },
  {
   "cell_type": "markdown",
   "id": "fc9117f8",
   "metadata": {
    "tags": []
   },
   "source": [
    "## 연습문제"
   ]
  },
  {
   "cell_type": "markdown",
   "id": "3f9e59ef-636b-4241-81ac-2c02077fc0c9",
   "metadata": {
    "tags": []
   },
   "source": [
    "다음과 같은 딕셔너리가 있습니다:\n",
    "<pre><code>\n",
    "phonebook = {\n",
    "    \"Alice\": \"010-1234-5678\",\n",
    "    \"Bob\": \"010-8765-4321\",\n",
    "    \"Charlie\": \"010-5555-7777\"\n",
    "}</code></pre>\n",
    "위 딕셔너리를 사용하여 다음을 수행하는 프로그램을 작성하세요:\n",
    "\n",
    "* 사용자로부터 이름을 입력받습니다.\n",
    "* 입력받은 이름이 딕셔너리의 키(Key)에 포함되어 있는지 확인합니다.\n",
    "* 포함되어 있으면, 해당 값을 출력합니다.\n",
    "* 포함되어 있지 않으면, \"없는 이름입니다.\"라는 메시지를 출력합니다."
   ]
  },
  {
   "cell_type": "code",
   "execution_count": 2,
   "id": "f9db8b3a-747b-4f97-a830-42082309d23b",
   "metadata": {},
   "outputs": [],
   "source": [
    "#여기에 작성해보시오."
   ]
  },
  {
   "cell_type": "markdown",
   "id": "5284266d-5844-47ea-aeec-7947634d1a45",
   "metadata": {},
   "source": [
    "## 연습문제 (심화)"
   ]
  },
  {
   "cell_type": "markdown",
   "id": "62051b84-2e88-43f4-9df1-6d17972b6a99",
   "metadata": {},
   "source": [
    "다음과 같은 딕셔너리가 주어졌을 때, 딕셔너리의 키와 값을 뒤집어서 새로운 딕셔너리를 생성하는 함수를 작성하세요.\n",
    "chatGPT를 이용해 검색해보세요\n",
    "<pre><code>\n",
    "d = {'apple': 10, 'banana': 5, 'orange': 20, 'kiwi': 2}\n",
    "</code></pre>"
   ]
  },
  {
   "cell_type": "code",
   "execution_count": 1,
   "id": "57abd893-b95c-4968-a733-6d3d91bb8bd9",
   "metadata": {},
   "outputs": [],
   "source": [
    "# 출력 결과: {10: 'apple', 5: 'banana', 20: 'orange', 2: 'kiwi'}"
   ]
  }
 ],
 "metadata": {
  "kernelspec": {
   "display_name": "Python 3 (ipykernel)",
   "language": "python",
   "name": "python3"
  },
  "language_info": {
   "codemirror_mode": {
    "name": "ipython",
    "version": 3
   },
   "file_extension": ".py",
   "mimetype": "text/x-python",
   "name": "python",
   "nbconvert_exporter": "python",
   "pygments_lexer": "ipython3",
   "version": "3.8.10"
  }
 },
 "nbformat": 4,
 "nbformat_minor": 5
}
