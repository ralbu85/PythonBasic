{
 "cells": [
  {
   "cell_type": "markdown",
   "id": "killing-avatar",
   "metadata": {},
   "source": [
    "# 04. 조건문"
   ]
  },
  {
   "cell_type": "markdown",
   "id": "e10eaf40-472d-4741-b07a-0263980c3a07",
   "metadata": {},
   "source": [
    "<pre><code>\n",
    "if 불리언 값:\n",
    "    명령문\n",
    "    명령문\n",
    "</code></pre>\n"
   ]
  },
  {
   "cell_type": "code",
   "execution_count": 1,
   "id": "victorian-crystal",
   "metadata": {},
   "outputs": [
    {
     "name": "stdout",
     "output_type": "stream",
     "text": [
      "True\n",
      "False\n",
      "False\n",
      "True\n"
     ]
    }
   ],
   "source": [
    "## 비교연산자 복습\n",
    "a=3\n",
    "b=2\n",
    "print(a>b)\n",
    "print(a<b)\n",
    "print(a==b)\n",
    "print(a!=b)"
   ]
  },
  {
   "cell_type": "code",
   "execution_count": 2,
   "id": "sixth-welsh",
   "metadata": {},
   "outputs": [
    {
     "name": "stdout",
     "output_type": "stream",
     "text": [
      "True\n",
      "False\n"
     ]
    }
   ],
   "source": [
    "## 비교연산자 복습\n",
    "a='hello'\n",
    "b='hello'\n",
    "c='heRRp'\n",
    "print(a==b)\n",
    "print(a==c)\n"
   ]
  },
  {
   "cell_type": "markdown",
   "id": "judicial-shark",
   "metadata": {},
   "source": [
    "## 04-1. if문의 기본구조"
   ]
  },
  {
   "cell_type": "code",
   "execution_count": 3,
   "id": "nuclear-aside",
   "metadata": {},
   "outputs": [
    {
     "name": "stdout",
     "output_type": "stream",
     "text": [
      "Hello World\n"
     ]
    }
   ],
   "source": [
    "if True:\n",
    "    print('Hello World')"
   ]
  },
  {
   "cell_type": "code",
   "execution_count": 3,
   "id": "conscious-provision",
   "metadata": {},
   "outputs": [],
   "source": [
    "if False:\n",
    "    print('Hello World') # 거짓이므로 아예 실행되지 않음    "
   ]
  },
  {
   "cell_type": "code",
   "execution_count": 5,
   "id": "cde94985-c32f-4c55-a68c-6d5d0cb4e326",
   "metadata": {},
   "outputs": [
    {
     "name": "stdout",
     "output_type": "stream",
     "text": [
      "3\n"
     ]
    }
   ],
   "source": [
    "x = 3 #이부분은 if상관없이 실행됨\n",
    "if False:\n",
    "    print('Hello World') # 거짓이므로 아예 실행되지 않음  \n",
    "print(x) #이부분은 if에 상관없이 실행됨"
   ]
  },
  {
   "cell_type": "code",
   "execution_count": 8,
   "id": "c642a02c-9fab-4568-a39c-8c655f2866fc",
   "metadata": {},
   "outputs": [
    {
     "name": "stdout",
     "output_type": "stream",
     "text": [
      "13\n"
     ]
    }
   ],
   "source": [
    "x = 3 #이부분은 if상관없이 실행됨\n",
    "if True:\n",
    "    result = x+10 # 참이므로 무조건 실행됨\n",
    "print(result) #이부분은 if에 상관없이 실행됨"
   ]
  },
  {
   "cell_type": "markdown",
   "id": "devoted-september",
   "metadata": {},
   "source": [
    "## 04-2. 비교연산자와 함께 if 사용"
   ]
  },
  {
   "cell_type": "code",
   "execution_count": 14,
   "id": "bound-column",
   "metadata": {},
   "outputs": [
    {
     "name": "stdout",
     "output_type": "stream",
     "text": [
      "x is less than 4\n"
     ]
    }
   ],
   "source": [
    "x = 3\n",
    "if x<4: # True\n",
    "    print('x is less than 4')"
   ]
  },
  {
   "cell_type": "code",
   "execution_count": 13,
   "id": "final-syndrome",
   "metadata": {},
   "outputs": [],
   "source": [
    "x = 5\n",
    "if x == 10: # False\n",
    "    print('x is equal to 10')"
   ]
  },
  {
   "cell_type": "markdown",
   "id": "b3fe9979-4325-46ed-ac75-d2a41a44beea",
   "metadata": {},
   "source": [
    "## 04-03. 코드블럭"
   ]
  },
  {
   "cell_type": "code",
   "execution_count": 15,
   "id": "71f3487f-f626-4b26-8382-a818b8e3a451",
   "metadata": {},
   "outputs": [
    {
     "name": "stdout",
     "output_type": "stream",
     "text": [
      "Hello World\n",
      "x is less than four.\n"
     ]
    }
   ],
   "source": [
    "x = 3\n",
    "if x<4:\n",
    "    print('Hello World') ## 탭으로 구분된 부분이 모두 실행\n",
    "    print('x is less than four.') ## 탭으로 구분된 부분이 모두 실행"
   ]
  },
  {
   "cell_type": "markdown",
   "id": "excellent-currency",
   "metadata": {},
   "source": [
    "## 04-04. 조건을 만족하지 않을 떄 (else)"
   ]
  },
  {
   "cell_type": "code",
   "execution_count": 16,
   "id": "defined-local",
   "metadata": {},
   "outputs": [
    {
     "name": "stdout",
     "output_type": "stream",
     "text": [
      "x is larger than 20.\n"
     ]
    }
   ],
   "source": [
    "x = 30\n",
    "if x>20:\n",
    "    print('x is larger than 20.')\n",
    "else:\n",
    "    print('x is less than 20.')"
   ]
  },
  {
   "cell_type": "code",
   "execution_count": 17,
   "id": "pretty-material",
   "metadata": {},
   "outputs": [
    {
     "name": "stdout",
     "output_type": "stream",
     "text": [
      "x is less than 20.\n"
     ]
    }
   ],
   "source": [
    "x = 10\n",
    "if x>20:\n",
    "    print('x is larger than 20.')\n",
    "else:\n",
    "    print('x is less than 20.')"
   ]
  },
  {
   "cell_type": "markdown",
   "id": "worthy-texas",
   "metadata": {},
   "source": [
    "## 04-05. 조건이 두 개 이상일 때 "
   ]
  },
  {
   "cell_type": "code",
   "execution_count": 19,
   "id": "lovely-expert",
   "metadata": {},
   "outputs": [
    {
     "name": "stdout",
     "output_type": "stream",
     "text": [
      "A\n"
     ]
    }
   ],
   "source": [
    "x = 30\n",
    "if x>20:\n",
    "    print('A')\n",
    "else: \n",
    "    if x> 10:\n",
    "        print('B')\n",
    "    else:\n",
    "        print('C')"
   ]
  },
  {
   "cell_type": "code",
   "execution_count": 20,
   "id": "silent-benefit",
   "metadata": {},
   "outputs": [
    {
     "name": "stdout",
     "output_type": "stream",
     "text": [
      "B\n"
     ]
    }
   ],
   "source": [
    "x = 15\n",
    "if x>20:\n",
    "    print('A')\n",
    "else: \n",
    "    if x> 10:\n",
    "        print('B')\n",
    "    else:\n",
    "        print('C')"
   ]
  },
  {
   "cell_type": "code",
   "execution_count": 21,
   "id": "acknowledged-championship",
   "metadata": {},
   "outputs": [
    {
     "name": "stdout",
     "output_type": "stream",
     "text": [
      "C\n"
     ]
    }
   ],
   "source": [
    "x = 5\n",
    "if x>20:\n",
    "    print('A')\n",
    "else: \n",
    "    if x> 10:\n",
    "        print('B')\n",
    "    else:\n",
    "        print('C')"
   ]
  },
  {
   "cell_type": "markdown",
   "id": "9b64d86b-d27f-4e64-b66e-10fbaeddb8e7",
   "metadata": {},
   "source": [
    "## else + if : elif "
   ]
  },
  {
   "cell_type": "code",
   "execution_count": 22,
   "id": "e84b6a7c-4fa6-47ef-aff1-ede119080462",
   "metadata": {},
   "outputs": [
    {
     "name": "stdout",
     "output_type": "stream",
     "text": [
      "C\n"
     ]
    }
   ],
   "source": [
    "x = 5\n",
    "if x>20:\n",
    "    print('A')\n",
    "elif x> 10: # else + if를 합쳐 elif로 사용 가능\n",
    "    print('B')\n",
    "else:\n",
    "    print('C')"
   ]
  },
  {
   "cell_type": "markdown",
   "id": "ea7883a3-447f-4e4e-95da-c6afef7f6221",
   "metadata": {},
   "source": [
    "## 연습문제"
   ]
  },
  {
   "cell_type": "markdown",
   "id": "867a3068-f430-41e3-80a1-5dfe1d87f18f",
   "metadata": {},
   "source": [
    "프로그램 실행시 사용자에게 입력값을 받아 name이라는 변수에 저장한다. 만약 입력값이 “Bond”라면 “welcome 007”이라는 메시지가, 다른 값이라면 “Good Morning”이라는 메시지가 나오도록 프로그램을 작성해보시오."
   ]
  },
  {
   "cell_type": "code",
   "execution_count": 23,
   "id": "e1c77e26-a236-4203-86ed-d7f7c0489418",
   "metadata": {},
   "outputs": [
    {
     "name": "stdin",
     "output_type": "stream",
     "text": [
      "이름을 입력하세요:  Bond\n"
     ]
    },
    {
     "name": "stdout",
     "output_type": "stream",
     "text": [
      "welcome 007\n"
     ]
    }
   ],
   "source": [
    "# 다음과 같이 실행되도록 작성"
   ]
  },
  {
   "cell_type": "markdown",
   "id": "1b274d9f-2aba-4d60-96d8-0bba56d9c3a0",
   "metadata": {},
   "source": [
    "## 연습문제"
   ]
  },
  {
   "cell_type": "markdown",
   "id": "25737ccc-40ec-497a-9b55-5bdc67ec88f5",
   "metadata": {},
   "source": [
    "이 프로그램은 사용자에게 숫자값을 입력받는다. 입력받는 값이 짝수라면 “짝수” 라는 메시지가 출력되도록, 홀수라면 “홀수”라는 메시지가 출력되도록 프로그램을 작성해 보시오"
   ]
  },
  {
   "cell_type": "code",
   "execution_count": 24,
   "id": "c9680fea-92fd-4afe-9d7b-b0df49a97425",
   "metadata": {},
   "outputs": [
    {
     "name": "stdin",
     "output_type": "stream",
     "text": [
      "숫자를 입력하세요:  23\n"
     ]
    },
    {
     "name": "stdout",
     "output_type": "stream",
     "text": [
      "홀수\n"
     ]
    }
   ],
   "source": [
    "# 다음과 같이 실행되도록 작성"
   ]
  },
  {
   "cell_type": "markdown",
   "id": "7683f453-b2f1-4a83-ab43-4a52cb397fbc",
   "metadata": {},
   "source": [
    "## 연습문제"
   ]
  },
  {
   "cell_type": "markdown",
   "id": "c6533e60-0ac4-4774-901b-cbea9e3f9634",
   "metadata": {},
   "source": [
    "어떤 농장에서 수박이 10kg가 넘으면 1등급, 그렇지 않고 7kg가 넘으면 2등급, 그렇지 않고 4kg이 넘으면 3등급, 나머지는 4등급을 주는 프로그램을 작성해보시오. 단, 등급에 대한 정보는 result라는 공통된 변수에 저장되어야 하며, 다음과 같이 결과가 출력될 수 있도록 하라."
   ]
  },
  {
   "cell_type": "code",
   "execution_count": 25,
   "id": "52db6061-bc2d-4f14-984b-5a1799b2bf18",
   "metadata": {},
   "outputs": [
    {
     "name": "stdin",
     "output_type": "stream",
     "text": [
      "무게를 입력하세요:  8\n"
     ]
    },
    {
     "name": "stdout",
     "output_type": "stream",
     "text": [
      "수박등급은  2등급  입니다.\n"
     ]
    }
   ],
   "source": [
    "# 다음과 같이 실행되도록 작성    "
   ]
  },
  {
   "cell_type": "markdown",
   "id": "438179b8-2be3-4166-9562-d0d3989a9223",
   "metadata": {},
   "source": [
    "## 연습문제(선택, chatGPT로 검색해보세요)"
   ]
  },
  {
   "cell_type": "markdown",
   "id": "8df7b70f-9aa6-494f-a226-1886adcf31b1",
   "metadata": {},
   "source": [
    "위 수박문제에서 사용자가 문자열 값을 입력하면 \"숫자만 입력가능합니다.\"와 같은 경고메시지를 표시하는 기능을 추가해보시오."
   ]
  },
  {
   "cell_type": "code",
   "execution_count": 2,
   "id": "74ba851e-0067-4eaa-8fb3-4fd7b7909c6a",
   "metadata": {},
   "outputs": [
    {
     "name": "stdout",
     "output_type": "stream",
     "text": [
      "숫자가 아닙니다.\n"
     ]
    }
   ],
   "source": [
    "num_str = \"xyz\"\n",
    "if num_str.isdigit():\n",
    "    print(\"숫자입니다.\")\n",
    "else:\n",
    "    print(\"숫자가 아닙니다.\")\n"
   ]
  },
  {
   "cell_type": "code",
   "execution_count": null,
   "id": "95d8dd87-d4f9-467e-b9fd-e435ca0633a5",
   "metadata": {},
   "outputs": [],
   "source": []
  }
 ],
 "metadata": {
  "kernelspec": {
   "display_name": "Python 3 (ipykernel)",
   "language": "python",
   "name": "python3"
  },
  "language_info": {
   "codemirror_mode": {
    "name": "ipython",
    "version": 3
   },
   "file_extension": ".py",
   "mimetype": "text/x-python",
   "name": "python",
   "nbconvert_exporter": "python",
   "pygments_lexer": "ipython3",
   "version": "3.8.10"
  }
 },
 "nbformat": 4,
 "nbformat_minor": 5
}
