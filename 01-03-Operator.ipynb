{
 "cells": [
  {
   "cell_type": "markdown",
   "id": "brutal-medium",
   "metadata": {},
   "source": [
    "# 3. 연산자(Operator)"
   ]
  },
  {
   "cell_type": "markdown",
   "id": "piano-requirement",
   "metadata": {},
   "source": [
    "- 두개의 값을 결합하여 새로운 값을 만들기 위한 기호\n",
    "- 숫자값: 사칙연산\n",
    "- 문자열값: 문자붙이기\n",
    "- 불리언값: and, or, not"
   ]
  },
  {
   "cell_type": "markdown",
   "id": "aggregate-phase",
   "metadata": {},
   "source": [
    "## 3.1 숫자연산"
   ]
  },
  {
   "cell_type": "code",
   "execution_count": 23,
   "id": "crucial-application",
   "metadata": {},
   "outputs": [
    {
     "data": {
      "text/plain": [
       "20"
      ]
     },
     "execution_count": 23,
     "metadata": {},
     "output_type": "execute_result"
    }
   ],
   "source": [
    "10+10"
   ]
  },
  {
   "cell_type": "code",
   "execution_count": 24,
   "id": "italian-retention",
   "metadata": {},
   "outputs": [
    {
     "data": {
      "text/plain": [
       "100"
      ]
     },
     "execution_count": 24,
     "metadata": {},
     "output_type": "execute_result"
    }
   ],
   "source": [
    "10*10"
   ]
  },
  {
   "cell_type": "code",
   "execution_count": 6,
   "id": "empirical-florida",
   "metadata": {},
   "outputs": [
    {
     "data": {
      "text/plain": [
       "6"
      ]
     },
     "execution_count": 6,
     "metadata": {},
     "output_type": "execute_result"
    }
   ],
   "source": [
    "2*3"
   ]
  },
  {
   "cell_type": "code",
   "execution_count": 7,
   "id": "overhead-cheese",
   "metadata": {},
   "outputs": [
    {
     "data": {
      "text/plain": [
       "64"
      ]
     },
     "execution_count": 7,
     "metadata": {},
     "output_type": "execute_result"
    }
   ],
   "source": [
    "4**3"
   ]
  },
  {
   "cell_type": "code",
   "execution_count": 8,
   "id": "frank-pound",
   "metadata": {},
   "outputs": [
    {
     "data": {
      "text/plain": [
       "0"
      ]
     },
     "execution_count": 8,
     "metadata": {},
     "output_type": "execute_result"
    }
   ],
   "source": [
    "15%3"
   ]
  },
  {
   "cell_type": "code",
   "execution_count": 9,
   "id": "cc43c87c-ac62-40ad-988f-107b0364b601",
   "metadata": {},
   "outputs": [
    {
     "data": {
      "text/plain": [
       "5"
      ]
     },
     "execution_count": 9,
     "metadata": {},
     "output_type": "execute_result"
    }
   ],
   "source": [
    "15//3"
   ]
  },
  {
   "cell_type": "code",
   "execution_count": 19,
   "id": "7fb7e175-1f3e-4daf-b07d-c12fa89dcac9",
   "metadata": {},
   "outputs": [
    {
     "data": {
      "text/plain": [
       "(20, 100, 8, 0, 5)"
      ]
     },
     "execution_count": 19,
     "metadata": {},
     "output_type": "execute_result"
    }
   ],
   "source": [
    "## 다음과 같이 여러 연산의 결과를 콤마를 붙여 한줄에 실행할수도 있다\n",
    "10+10, 10*10, 2**3, 15%3, 15//3"
   ]
  },
  {
   "cell_type": "markdown",
   "id": "protective-mixture",
   "metadata": {},
   "source": [
    "## 3.2 문자연산"
   ]
  },
  {
   "cell_type": "code",
   "execution_count": 29,
   "id": "former-baltimore",
   "metadata": {},
   "outputs": [
    {
     "data": {
      "text/plain": [
       "'Hello World'"
      ]
     },
     "execution_count": 29,
     "metadata": {},
     "output_type": "execute_result"
    }
   ],
   "source": [
    "'Hello '+'World'"
   ]
  },
  {
   "cell_type": "code",
   "execution_count": 31,
   "id": "recent-casino",
   "metadata": {},
   "outputs": [
    {
     "data": {
      "text/plain": [
       "'Hello Hello Hello Hello Hello '"
      ]
     },
     "execution_count": 31,
     "metadata": {},
     "output_type": "execute_result"
    }
   ],
   "source": [
    "'Hello '*5"
   ]
  },
  {
   "cell_type": "markdown",
   "id": "selective-mystery",
   "metadata": {},
   "source": [
    "## 3.3 불리언 연산"
   ]
  },
  {
   "cell_type": "code",
   "execution_count": 16,
   "id": "7d24082a-9533-43a2-b024-2945e51ab285",
   "metadata": {},
   "outputs": [
    {
     "data": {
      "text/plain": [
       "True"
      ]
     },
     "execution_count": 16,
     "metadata": {},
     "output_type": "execute_result"
    }
   ],
   "source": [
    "True and True"
   ]
  },
  {
   "cell_type": "code",
   "execution_count": 15,
   "id": "auburn-drawing",
   "metadata": {},
   "outputs": [
    {
     "data": {
      "text/plain": [
       "(True, False, False, False)"
      ]
     },
     "execution_count": 15,
     "metadata": {},
     "output_type": "execute_result"
    }
   ],
   "source": [
    "## 여러개 연산을 콤마로 한줄에 실행\n",
    "True and True, True and False, False and True, False and False"
   ]
  },
  {
   "cell_type": "code",
   "execution_count": 17,
   "id": "3a2eb135-3a76-4c32-a082-30b06680f9f0",
   "metadata": {},
   "outputs": [
    {
     "data": {
      "text/plain": [
       "True"
      ]
     },
     "execution_count": 17,
     "metadata": {},
     "output_type": "execute_result"
    }
   ],
   "source": [
    "True or False"
   ]
  },
  {
   "cell_type": "code",
   "execution_count": 14,
   "id": "concrete-attachment",
   "metadata": {},
   "outputs": [
    {
     "data": {
      "text/plain": [
       "(True, True, True, False)"
      ]
     },
     "execution_count": 14,
     "metadata": {},
     "output_type": "execute_result"
    }
   ],
   "source": [
    "## 여러개 연산을 콤마로 한줄에 실행\n",
    "True or True, True or False, False or True, False or False"
   ]
  },
  {
   "cell_type": "code",
   "execution_count": 18,
   "id": "1a0a36f6-5675-4f7f-b9c0-7fb4706cf587",
   "metadata": {},
   "outputs": [
    {
     "data": {
      "text/plain": [
       "(False, True)"
      ]
     },
     "execution_count": 18,
     "metadata": {},
     "output_type": "execute_result"
    }
   ],
   "source": [
    "not True, not False"
   ]
  },
  {
   "cell_type": "markdown",
   "id": "european-contemporary",
   "metadata": {},
   "source": [
    "## 3.4 비교연산자"
   ]
  },
  {
   "cell_type": "markdown",
   "id": "passive-microphone",
   "metadata": {},
   "source": [
    "- 지금까지의 연산자\n",
    "- 숫자값 = 숫자값 (연산자) 숫자값\n",
    "- 문자열 = 문자열 (연산자) 문자열\n",
    "- 불리언 = 불리언 (연산자) 불리언"
   ]
  },
  {
   "cell_type": "markdown",
   "id": "distant-franchise",
   "metadata": {},
   "source": [
    "- 비교연산자 \n",
    "- 불리언 = 숫자 (비교연산자) 숫자\n",
    "- \">, <, >=, <=, ==, !=\""
   ]
  },
  {
   "cell_type": "code",
   "execution_count": 2,
   "id": "potential-responsibility",
   "metadata": {},
   "outputs": [
    {
     "data": {
      "text/plain": [
       "False"
      ]
     },
     "execution_count": 2,
     "metadata": {},
     "output_type": "execute_result"
    }
   ],
   "source": [
    "3>5"
   ]
  },
  {
   "cell_type": "code",
   "execution_count": 3,
   "id": "ranking-floor",
   "metadata": {},
   "outputs": [
    {
     "data": {
      "text/plain": [
       "True"
      ]
     },
     "execution_count": 3,
     "metadata": {},
     "output_type": "execute_result"
    }
   ],
   "source": [
    "3<5"
   ]
  },
  {
   "cell_type": "code",
   "execution_count": 4,
   "id": "premier-channels",
   "metadata": {},
   "outputs": [
    {
     "data": {
      "text/plain": [
       "False"
      ]
     },
     "execution_count": 4,
     "metadata": {},
     "output_type": "execute_result"
    }
   ],
   "source": [
    "3==5"
   ]
  },
  {
   "cell_type": "code",
   "execution_count": 7,
   "id": "becoming-tribune",
   "metadata": {},
   "outputs": [
    {
     "data": {
      "text/plain": [
       "True"
      ]
     },
     "execution_count": 7,
     "metadata": {},
     "output_type": "execute_result"
    }
   ],
   "source": [
    "3!=5"
   ]
  },
  {
   "cell_type": "code",
   "execution_count": 5,
   "id": "noted-journalism",
   "metadata": {},
   "outputs": [
    {
     "data": {
      "text/plain": [
       "True"
      ]
     },
     "execution_count": 5,
     "metadata": {},
     "output_type": "execute_result"
    }
   ],
   "source": [
    "3<=3"
   ]
  },
  {
   "cell_type": "code",
   "execution_count": 6,
   "id": "helpful-pixel",
   "metadata": {},
   "outputs": [
    {
     "data": {
      "text/plain": [
       "True"
      ]
     },
     "execution_count": 6,
     "metadata": {},
     "output_type": "execute_result"
    }
   ],
   "source": [
    "3==3"
   ]
  },
  {
   "cell_type": "markdown",
   "id": "160628ff-1640-4f72-bd0b-46102dcfc4eb",
   "metadata": {},
   "source": [
    "## 3.5 연산자 우선순위"
   ]
  },
  {
   "cell_type": "markdown",
   "id": "2a689bef-38c3-4e5d-be8e-baaf1459753b",
   "metadata": {},
   "source": [
    "1. 괄호 ()\n",
    "2. 거듭제곱 **\n",
    "3. 이항 연산자 * (곱하기), / (나누기), % (나머지 연산)\n",
    "4. 이항 연산자 + (더하기), - (빼기)\n",
    "5. 비교 연산자 <, >, <=, >=, ==, !=\n",
    "6. 논리 연산자 not, and, or"
   ]
  },
  {
   "cell_type": "code",
   "execution_count": 1,
   "id": "17cf2af9-3089-4c21-809c-f1abd2542151",
   "metadata": {},
   "outputs": [
    {
     "name": "stdout",
     "output_type": "stream",
     "text": [
      "-4\n"
     ]
    }
   ],
   "source": [
    "print(3-2-10+5) # 1-10+5 -> -9+5 -> -4"
   ]
  },
  {
   "cell_type": "code",
   "execution_count": 2,
   "id": "f022c150-3447-4e7b-8974-4747912a4d69",
   "metadata": {},
   "outputs": [
    {
     "name": "stdout",
     "output_type": "stream",
     "text": [
      "86\n"
     ]
    }
   ],
   "source": [
    "print(3*2**5-10) # 3*32-10 -> 96-10 -> 86"
   ]
  },
  {
   "cell_type": "code",
   "execution_count": 3,
   "id": "80958508-6732-4787-8258-4bc477ba5b86",
   "metadata": {},
   "outputs": [
    {
     "name": "stdout",
     "output_type": "stream",
     "text": [
      "False\n"
     ]
    }
   ],
   "source": [
    "print(3*2<2-10) # 6<2-10 -> 6<-8 -> False"
   ]
  },
  {
   "cell_type": "code",
   "execution_count": 5,
   "id": "edc59db2-6faf-4e21-8224-76c4f53a3300",
   "metadata": {},
   "outputs": [
    {
     "name": "stdout",
     "output_type": "stream",
     "text": [
      "0.0001286008230452675\n"
     ]
    }
   ],
   "source": [
    "print((3*2)**(5-10)) # (6**-5)"
   ]
  },
  {
   "cell_type": "markdown",
   "id": "a92617fd-7742-489a-aab6-c70e65a2c169",
   "metadata": {},
   "source": [
    "* 가장 좋은 습관은 괄호를 붙여 우선순위를 명확하게 하는 것"
   ]
  },
  {
   "cell_type": "markdown",
   "id": "8b4290bb-3773-4270-b10b-eaf9093a7acb",
   "metadata": {},
   "source": [
    "## 연산의 결과를 다른 변수에 저장"
   ]
  },
  {
   "cell_type": "code",
   "execution_count": 20,
   "id": "8f71f196-3a8b-4382-a071-850d28b78366",
   "metadata": {},
   "outputs": [
    {
     "data": {
      "text/plain": [
       "8"
      ]
     },
     "execution_count": 20,
     "metadata": {},
     "output_type": "execute_result"
    }
   ],
   "source": [
    "x = 3 + 5\n",
    "x"
   ]
  },
  {
   "cell_type": "code",
   "execution_count": 21,
   "id": "c8b814a7-6852-4d20-86de-ce06eae5975a",
   "metadata": {},
   "outputs": [
    {
     "data": {
      "text/plain": [
       "9765625"
      ]
     },
     "execution_count": 21,
     "metadata": {},
     "output_type": "execute_result"
    }
   ],
   "source": [
    "x = 5\n",
    "y = 10\n",
    "x**y"
   ]
  },
  {
   "cell_type": "code",
   "execution_count": 22,
   "id": "c370d321-bd2d-440a-b3ee-e726fef23272",
   "metadata": {},
   "outputs": [
    {
     "data": {
      "text/plain": [
       "9765625"
      ]
     },
     "execution_count": 22,
     "metadata": {},
     "output_type": "execute_result"
    }
   ],
   "source": [
    "x = 5\n",
    "y = 10\n",
    "result = x**y ## 오른쪽의 연산이 왼쪽의 변수에 저장되었다\n",
    "result"
   ]
  },
  {
   "cell_type": "markdown",
   "id": "942283d4-e8e1-4d16-b0e8-b158ca8c0fef",
   "metadata": {},
   "source": [
    "## 연습문제"
   ]
  },
  {
   "cell_type": "markdown",
   "id": "993b4914-ff52-42cc-84ae-b37cc146b3a7",
   "metadata": {},
   "source": [
    "다음의 참 거짓여부를 확인해보시오\n",
    "* 25의 세제곱은 10000보다 크다\n",
    "* 46의 네제곱은 10000에서 100000사이에 있다.\n"
   ]
  },
  {
   "cell_type": "code",
   "execution_count": null,
   "id": "feae2d5d-bce4-4014-9853-941b8b531a98",
   "metadata": {},
   "outputs": [],
   "source": []
  },
  {
   "cell_type": "markdown",
   "id": "81410aa7-0e1a-4b27-bce5-a401a825fa77",
   "metadata": {},
   "source": [
    "## 연습문제"
   ]
  },
  {
   "cell_type": "markdown",
   "id": "124e47d1-4d11-410d-b1e4-bcb269ab2b5c",
   "metadata": {},
   "source": [
    "섭씨 온도 42도를 celc라는 변수에 저장하고, 이를 화씨온도로 바꾸어 farnh 라는 변수에 저장하고 그결과값을 출력하시오. 섭씨온도를 화씨온도로 바꾸는 방법은 인터넷을 검색하시오"
   ]
  },
  {
   "cell_type": "code",
   "execution_count": null,
   "id": "6e245004-9627-400c-ae83-c988b2b6ba19",
   "metadata": {},
   "outputs": [],
   "source": []
  }
 ],
 "metadata": {
  "kernelspec": {
   "display_name": "Python 3 (ipykernel)",
   "language": "python",
   "name": "python3"
  },
  "language_info": {
   "codemirror_mode": {
    "name": "ipython",
    "version": 3
   },
   "file_extension": ".py",
   "mimetype": "text/x-python",
   "name": "python",
   "nbconvert_exporter": "python",
   "pygments_lexer": "ipython3",
   "version": "3.8.10"
  }
 },
 "nbformat": 4,
 "nbformat_minor": 5
}
