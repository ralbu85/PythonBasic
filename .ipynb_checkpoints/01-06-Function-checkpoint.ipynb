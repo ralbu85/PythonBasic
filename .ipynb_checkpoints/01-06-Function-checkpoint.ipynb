{
 "cells": [
  {
   "cell_type": "markdown",
   "id": "8e3ba12a",
   "metadata": {},
   "source": [
    "# 05. 함수"
   ]
  },
  {
   "cell_type": "markdown",
   "id": "25d6102b-db61-4d77-b69c-90bb96356f68",
   "metadata": {},
   "source": [
    "```python\n",
    "def 함수이름(매개변수1, 매개변수2, ...):\n",
    "    함수의 실행문\n",
    "    return 반환값\n"
   ]
  },
  {
   "cell_type": "markdown",
   "id": "d928503c-f63c-4046-bbb5-d5e9b5ee381e",
   "metadata": {},
   "source": [
    "* y = f(x) = 2x + 10\n",
    "    - f(5) = 20\n",
    "    - f(10) = 30"
   ]
  },
  {
   "cell_type": "markdown",
   "id": "473ce249-8c5c-4178-b84d-feb9ea1eb3ee",
   "metadata": {},
   "source": [
    "## 함수의 정의"
   ]
  },
  {
   "cell_type": "code",
   "execution_count": 1,
   "id": "7a4e3d7c-573b-4986-a553-499982de901d",
   "metadata": {},
   "outputs": [],
   "source": [
    "def function(x):\n",
    "    y = 2*x+10\n",
    "    return y"
   ]
  },
  {
   "cell_type": "code",
   "execution_count": 2,
   "id": "205da068-8a32-40b4-86df-cff136fecae7",
   "metadata": {},
   "outputs": [
    {
     "data": {
      "text/plain": [
       "30"
      ]
     },
     "execution_count": 2,
     "metadata": {},
     "output_type": "execute_result"
    }
   ],
   "source": [
    "function(10)"
   ]
  },
  {
   "cell_type": "code",
   "execution_count": 3,
   "id": "effd4ee6-a425-4f25-ad76-d8efb5d40317",
   "metadata": {},
   "outputs": [
    {
     "data": {
      "text/plain": [
       "50"
      ]
     },
     "execution_count": 3,
     "metadata": {},
     "output_type": "execute_result"
    }
   ],
   "source": [
    "function(20)"
   ]
  },
  {
   "cell_type": "markdown",
   "id": "40ce02a4-9430-4aa9-a51c-adeee2873417",
   "metadata": {},
   "source": [
    "## 연습문제\n",
    "* 다음을 수행하는 함수를 만들어보시오\n",
    "    - 이름: power\n",
    "    - 입력값: 숫자\n",
    "    - 출력값: 입력된 숫자에 세제곱후 100을 뺀 값"
   ]
  },
  {
   "cell_type": "code",
   "execution_count": 4,
   "id": "0280b2fd-0ab1-4448-bddb-19e8ec6e0b85",
   "metadata": {},
   "outputs": [],
   "source": [
    "def power(n):\n",
    "    y = n**3 - 100\n",
    "    return y"
   ]
  },
  {
   "cell_type": "code",
   "execution_count": 6,
   "id": "8e165771-3604-4fe2-9bdb-d92538e69323",
   "metadata": {},
   "outputs": [
    {
     "data": {
      "text/plain": [
       "900"
      ]
     },
     "execution_count": 6,
     "metadata": {},
     "output_type": "execute_result"
    }
   ],
   "source": [
    "power(10)"
   ]
  },
  {
   "cell_type": "markdown",
   "id": "405b9791-fb77-426a-8653-fdb0d0ae2ffc",
   "metadata": {},
   "source": [
    "## 입력값이 여러개인 함수\n",
    "* a에 b제곱하는 함수\n",
    "    - 이름: jegop\n",
    "    - 입력값1: 및 a\n",
    "    - 입력값2: 지수 b\n",
    "    - 출력값: y"
   ]
  },
  {
   "cell_type": "code",
   "execution_count": 7,
   "id": "7606646f-7fcd-4efc-b321-dd722334c544",
   "metadata": {},
   "outputs": [],
   "source": [
    "def jegop(a,b):\n",
    "    y = a**b\n",
    "    return y"
   ]
  },
  {
   "cell_type": "code",
   "execution_count": 8,
   "id": "15edbe0b-f084-445a-b7e9-9f2111a1a1e5",
   "metadata": {},
   "outputs": [
    {
     "data": {
      "text/plain": [
       "8"
      ]
     },
     "execution_count": 8,
     "metadata": {},
     "output_type": "execute_result"
    }
   ],
   "source": [
    "jegop(2,3)"
   ]
  },
  {
   "cell_type": "code",
   "execution_count": 9,
   "id": "867dc1c2-df1f-4ca1-95b5-ff95b87c08a9",
   "metadata": {},
   "outputs": [
    {
     "data": {
      "text/plain": [
       "0.1111111111111111"
      ]
     },
     "execution_count": 9,
     "metadata": {},
     "output_type": "execute_result"
    }
   ],
   "source": [
    "jegop(3,-2)"
   ]
  },
  {
   "cell_type": "markdown",
   "id": "325b8234-5d94-451a-a738-3d83f8c467df",
   "metadata": {},
   "source": [
    "## 함수 출력값의 사용"
   ]
  },
  {
   "cell_type": "code",
   "execution_count": 10,
   "id": "3885c4b5-a101-4cf9-bb0b-7566ad587090",
   "metadata": {},
   "outputs": [],
   "source": [
    "# 함수의 계산결과는 변수에 저장하여 사용할 수 있다.\n",
    "result1 = function(20)\n",
    "result2 = power(50)\n",
    "result3 = jegop(2, 10)"
   ]
  },
  {
   "cell_type": "code",
   "execution_count": 11,
   "id": "59612954-d59b-4753-8ba9-2b12914318be",
   "metadata": {},
   "outputs": [
    {
     "name": "stdout",
     "output_type": "stream",
     "text": [
      "50\n",
      "124900\n",
      "1024\n"
     ]
    }
   ],
   "source": [
    "print(result1)\n",
    "print(result2)\n",
    "print(result3)"
   ]
  },
  {
   "cell_type": "markdown",
   "id": "8dfa5025-006b-416e-afb0-7822e96c3b57",
   "metadata": {},
   "source": [
    "## 연습문제\n",
    "* 다음 함수를 만들어보시오\n",
    "    - 함수이름: sigma\n",
    "    - 입력값: 숫자 n\n",
    "    - 출력값: 1부터 n까지의 합 (1+2+...+n)"
   ]
  },
  {
   "cell_type": "code",
   "execution_count": 12,
   "id": "3a19b00b-68c4-4d2b-bede-e7da11d09d2e",
   "metadata": {},
   "outputs": [],
   "source": [
    "def sigma(n):\n",
    "    result = 0\n",
    "    for i in range(1,n+1):\n",
    "        result = result + i    \n",
    "    return result\n",
    "    "
   ]
  },
  {
   "cell_type": "code",
   "execution_count": 15,
   "id": "c3724ecd-110d-46d0-80bb-00fb9a952e11",
   "metadata": {},
   "outputs": [
    {
     "data": {
      "text/plain": [
       "5050"
      ]
     },
     "execution_count": 15,
     "metadata": {},
     "output_type": "execute_result"
    }
   ],
   "source": [
    "sigma(100)"
   ]
  },
  {
   "cell_type": "markdown",
   "id": "f7df6975-8554-44a0-a00b-13454ca98f0b",
   "metadata": {
    "tags": []
   },
   "source": [
    "## 연습문제\n",
    "* 입력된 정수(n)의 팩토리얼 (1x2x...xn)을 구현하는 함수를 만들어보시오\n",
    "    - 함수이름: factorial\n",
    "    - 입력값: n\n",
    "    - 출력값: y"
   ]
  },
  {
   "cell_type": "code",
   "execution_count": 16,
   "id": "ceffcdd4-48f9-4ec2-8f2a-b42adb404902",
   "metadata": {},
   "outputs": [],
   "source": [
    "def factorial(n):\n",
    "    y = 1\n",
    "    for i in range(1,n+1):\n",
    "        y = y*i\n",
    "    return y"
   ]
  },
  {
   "cell_type": "code",
   "execution_count": 17,
   "id": "f4939063-d0ac-40ed-8613-d017d3a7d6da",
   "metadata": {},
   "outputs": [
    {
     "data": {
      "text/plain": [
       "2432902008176640000"
      ]
     },
     "execution_count": 17,
     "metadata": {},
     "output_type": "execute_result"
    }
   ],
   "source": [
    "factorial(20)"
   ]
  },
  {
   "cell_type": "markdown",
   "id": "0aa626ab-be5b-4818-b5e3-608c8fa45c35",
   "metadata": {},
   "source": [
    "## 연습문제\n",
    "* 두개의 문자열을 입력받아 두 문자열의 갯수가 같으면 True, 아니면 False를 출력하는 함수를 만들어보시오\n",
    "    - 함수이름: isSameLength\n",
    "    - 힌트: len"
   ]
  },
  {
   "cell_type": "code",
   "execution_count": 18,
   "id": "d9653f6b-b235-4825-ad54-037dbeb70fab",
   "metadata": {},
   "outputs": [
    {
     "data": {
      "text/plain": [
       "11"
      ]
     },
     "execution_count": 18,
     "metadata": {},
     "output_type": "execute_result"
    }
   ],
   "source": [
    "len(\"Hello World\")"
   ]
  },
  {
   "cell_type": "code",
   "execution_count": 33,
   "id": "e81d5ab5-a1cd-4912-9af8-585ac4f38294",
   "metadata": {},
   "outputs": [],
   "source": [
    "def isSameLength(a, b):\n",
    "    len_1 = len(a)\n",
    "    len_2 = len(b)\n",
    "    result = len_1 == len_2    \n",
    "    return result\n",
    "    \n",
    "# def isSameLength(a, b): \n",
    "#     return len(a) == len(b)"
   ]
  },
  {
   "cell_type": "code",
   "execution_count": 34,
   "id": "b5aa2f4c-a044-41e3-a19f-0e26adadc77f",
   "metadata": {
    "tags": []
   },
   "outputs": [
    {
     "data": {
      "text/plain": [
       "False"
      ]
     },
     "execution_count": 34,
     "metadata": {},
     "output_type": "execute_result"
    }
   ],
   "source": [
    "isSameLength('Hello World', 'HelloWorld')"
   ]
  },
  {
   "cell_type": "code",
   "execution_count": 36,
   "id": "3ed73141-f8fb-46af-91bc-1563e6e91373",
   "metadata": {},
   "outputs": [
    {
     "ename": "NameError",
     "evalue": "name 'a' is not defined",
     "output_type": "error",
     "traceback": [
      "\u001b[0;31m---------------------------------------------------------------------------\u001b[0m",
      "\u001b[0;31mNameError\u001b[0m                                 Traceback (most recent call last)",
      "\u001b[0;32m/tmp/ipykernel_8017/2167009006.py\u001b[0m in \u001b[0;36m<module>\u001b[0;34m\u001b[0m\n\u001b[0;32m----> 1\u001b[0;31m \u001b[0ma\u001b[0m\u001b[0;34m\u001b[0m\u001b[0;34m\u001b[0m\u001b[0m\n\u001b[0m",
      "\u001b[0;31mNameError\u001b[0m: name 'a' is not defined"
     ]
    }
   ],
   "source": [
    "a"
   ]
  },
  {
   "cell_type": "code",
   "execution_count": 35,
   "id": "cd067e75-cdfd-4e52-8c41-f3cf6abd01a0",
   "metadata": {},
   "outputs": [
    {
     "ename": "NameError",
     "evalue": "name 'len_1' is not defined",
     "output_type": "error",
     "traceback": [
      "\u001b[0;31m---------------------------------------------------------------------------\u001b[0m",
      "\u001b[0;31mNameError\u001b[0m                                 Traceback (most recent call last)",
      "\u001b[0;32m/tmp/ipykernel_8017/2249996363.py\u001b[0m in \u001b[0;36m<module>\u001b[0;34m\u001b[0m\n\u001b[0;32m----> 1\u001b[0;31m \u001b[0mprint\u001b[0m\u001b[0;34m(\u001b[0m\u001b[0mlen_1\u001b[0m\u001b[0;34m)\u001b[0m\u001b[0;34m\u001b[0m\u001b[0;34m\u001b[0m\u001b[0m\n\u001b[0m",
      "\u001b[0;31mNameError\u001b[0m: name 'len_1' is not defined"
     ]
    }
   ],
   "source": [
    "print(len_1) # 함수 안에서 사용된 변수는 내부적으로만 사용된다. "
   ]
  },
  {
   "cell_type": "markdown",
   "id": "6a6627f4-323c-4ccb-9530-34743da302d0",
   "metadata": {},
   "source": [
    "## 출력값이 여러개인 함수"
   ]
  },
  {
   "cell_type": "code",
   "execution_count": 23,
   "id": "081dab9f-4032-46cb-a2e1-e85660697247",
   "metadata": {},
   "outputs": [],
   "source": [
    "def myFunc(a,b):\n",
    "    x = a**b\n",
    "    y = a/b\n",
    "    return x,y"
   ]
  },
  {
   "cell_type": "code",
   "execution_count": 24,
   "id": "5459cfb0-5270-4f3e-8abc-d1c8eaeba6a1",
   "metadata": {},
   "outputs": [
    {
     "data": {
      "text/plain": [
       "(8, 0.6666666666666666)"
      ]
     },
     "execution_count": 24,
     "metadata": {},
     "output_type": "execute_result"
    }
   ],
   "source": [
    "myFunc(2,3)"
   ]
  },
  {
   "cell_type": "code",
   "execution_count": 25,
   "id": "44a3eb39-9645-4077-aa6e-f38c7faf2e14",
   "metadata": {},
   "outputs": [
    {
     "name": "stdout",
     "output_type": "stream",
     "text": [
      "8\n",
      "0.66\n"
     ]
    }
   ],
   "source": [
    "x, y = 8, 0.66\n",
    "print(x)\n",
    "print(y)"
   ]
  },
  {
   "cell_type": "code",
   "execution_count": 26,
   "id": "adf33db3-4618-4019-9aca-c4ab0cc15b52",
   "metadata": {},
   "outputs": [
    {
     "name": "stdout",
     "output_type": "stream",
     "text": [
      "8\n",
      "0.6666666666666666\n"
     ]
    }
   ],
   "source": [
    "x,y = myFunc(2,3)\n",
    "print(x)\n",
    "print(y)"
   ]
  },
  {
   "cell_type": "markdown",
   "id": "cd2bb487-9596-41b7-9491-7a8a147152ac",
   "metadata": {
    "tags": []
   },
   "source": [
    "## 연습문제\n",
    "* a를 b로 나눈 몫과 나머지를 각각 출력하는 함수를 설계해 보시오\n",
    "    - 함수이름은 divide"
   ]
  },
  {
   "cell_type": "code",
   "execution_count": 31,
   "id": "66c33cc4-cb61-42a4-a317-bec1fd8c229e",
   "metadata": {},
   "outputs": [],
   "source": [
    "def divide(a,b):\n",
    "    return a//b,a%b"
   ]
  },
  {
   "cell_type": "code",
   "execution_count": 32,
   "id": "a1536c42-45e0-4e28-9d7f-4b7a2ac04ab8",
   "metadata": {},
   "outputs": [
    {
     "data": {
      "text/plain": [
       "(3, 1)"
      ]
     },
     "execution_count": 32,
     "metadata": {},
     "output_type": "execute_result"
    }
   ],
   "source": [
    "divide(10,3)"
   ]
  },
  {
   "cell_type": "markdown",
   "id": "c3c53ccb-9680-4d72-8fd1-89230b964560",
   "metadata": {},
   "source": [
    "## 함수와 변수의 범위"
   ]
  },
  {
   "cell_type": "markdown",
   "id": "c83189ad",
   "metadata": {},
   "source": [
    "- 함수안의 result값은 함수 안에서만 유효하다, 즉 함수 밖의 result와 함수 안의 result는 다르다.\n",
    "- 하지만 함수 밖에서 지정한 변수는 함수 안에서 참조가 가능하다 (전역변수) 주의를 요함."
   ]
  },
  {
   "cell_type": "code",
   "execution_count": 37,
   "id": "9adc1190-548f-49e2-9efe-1e5833f53e71",
   "metadata": {},
   "outputs": [],
   "source": [
    "outside = 3.141592 # 전역변수(glboal) -> 어떤 함수에서도 접근 가능\n",
    "def test(n):\n",
    "    return outside*n\n"
   ]
  },
  {
   "cell_type": "code",
   "execution_count": 38,
   "id": "b0f12aaf-d53d-40dd-bb05-4c12a6a4c70b",
   "metadata": {},
   "outputs": [
    {
     "data": {
      "text/plain": [
       "31.41592"
      ]
     },
     "execution_count": 38,
     "metadata": {},
     "output_type": "execute_result"
    }
   ],
   "source": [
    "test(10)"
   ]
  },
  {
   "cell_type": "markdown",
   "id": "3ce7fc16-047d-4e7f-b919-2bfef78a3f14",
   "metadata": {},
   "source": [
    "## 입력값이 없는 함수"
   ]
  },
  {
   "cell_type": "code",
   "execution_count": 39,
   "id": "ff76b810-2f33-4e3c-8dc2-b68369059ab3",
   "metadata": {},
   "outputs": [],
   "source": [
    "def no_input():\n",
    "    y = input(\"입력하세요: \")\n",
    "    return y"
   ]
  },
  {
   "cell_type": "code",
   "execution_count": 40,
   "id": "7ee56d8b-a646-4b66-b919-f68f7d733b85",
   "metadata": {},
   "outputs": [
    {
     "name": "stdin",
     "output_type": "stream",
     "text": [
      "입력하세요:  Lee Jihwan\n"
     ]
    }
   ],
   "source": [
    "result = no_input()"
   ]
  },
  {
   "cell_type": "code",
   "execution_count": 41,
   "id": "2172af81-5d6f-4681-aa9f-1be5baf75d6e",
   "metadata": {},
   "outputs": [
    {
     "data": {
      "text/plain": [
       "'Lee Jihwan'"
      ]
     },
     "execution_count": 41,
     "metadata": {},
     "output_type": "execute_result"
    }
   ],
   "source": [
    "result"
   ]
  },
  {
   "cell_type": "markdown",
   "id": "bfd3c1e3-f986-47ac-b2dd-d1b55aa31002",
   "metadata": {},
   "source": [
    "## 출력값이 없는 함수"
   ]
  },
  {
   "cell_type": "code",
   "execution_count": 42,
   "id": "dfb14a12-9005-4460-90e6-4584b6933f4e",
   "metadata": {},
   "outputs": [],
   "source": [
    "def no_output(n):\n",
    "    for i in range(n):\n",
    "        print(\"Hello World\")"
   ]
  },
  {
   "cell_type": "code",
   "execution_count": 46,
   "id": "855f41ce-192c-4491-82c8-fd87d43704f9",
   "metadata": {},
   "outputs": [
    {
     "name": "stdout",
     "output_type": "stream",
     "text": [
      "Hello World\n",
      "Hello World\n",
      "Hello World\n",
      "Hello World\n",
      "Hello World\n",
      "Hello World\n",
      "Hello World\n",
      "Hello World\n",
      "Hello World\n",
      "Hello World\n"
     ]
    }
   ],
   "source": [
    "y = no_output(10) # 출력값이 없으면 None이 저장됨"
   ]
  },
  {
   "cell_type": "code",
   "execution_count": 56,
   "id": "be958f16-de6a-449c-8fab-fff37b261455",
   "metadata": {},
   "outputs": [
    {
     "name": "stdout",
     "output_type": "stream",
     "text": [
      "None\n"
     ]
    }
   ],
   "source": [
    "print(y)"
   ]
  },
  {
   "cell_type": "markdown",
   "id": "18939242",
   "metadata": {},
   "source": [
    "## 5-6. 함수를 사용한 프로그램 구조화"
   ]
  },
  {
   "cell_type": "code",
   "execution_count": 60,
   "id": "1b020963",
   "metadata": {},
   "outputs": [
    {
     "name": "stdout",
     "output_type": "stream",
     "text": [
      "==================================================\n",
      "**************************************************\n",
      "Hello World\n",
      "Hello World\n",
      "Hello World\n",
      "Hello World\n",
      "Hello World\n",
      "**************************************************\n",
      "==================================================\n"
     ]
    }
   ],
   "source": [
    "def print_line():\n",
    "    print('='*50)\n",
    "        \n",
    "def print_star():\n",
    "    print('*'*50)\n",
    "    \n",
    "def main():\n",
    "    print_line() #함수 안에서 다른 함수가 사용되고 있다\n",
    "    print_star()\n",
    "    no_output(5)\n",
    "    print_star()\n",
    "    print_line()\n",
    "    \n",
    "main()"
   ]
  },
  {
   "cell_type": "code",
   "execution_count": 61,
   "id": "20e4471e-9f8b-45c6-a66f-5784b7eb8370",
   "metadata": {},
   "outputs": [
    {
     "name": "stdout",
     "output_type": "stream",
     "text": [
      "==================================================\n",
      "**************************************************\n",
      "Hello World\n",
      "Hello World\n",
      "Hello World\n",
      "Hello World\n",
      "Hello World\n",
      "**************************************************\n",
      "==================================================\n"
     ]
    }
   ],
   "source": [
    "main()"
   ]
  },
  {
   "cell_type": "markdown",
   "id": "038bb883",
   "metadata": {},
   "source": [
    "## 5-8. 함수안에 함수"
   ]
  },
  {
   "cell_type": "code",
   "execution_count": 12,
   "id": "51b95d4c",
   "metadata": {},
   "outputs": [
    {
     "name": "stdout",
     "output_type": "stream",
     "text": [
      "14\n",
      "55\n"
     ]
    }
   ],
   "source": [
    "def square(x):\n",
    "    return x**2\n",
    "\n",
    "def my_sum(x):\n",
    "    result = 0\n",
    "    for i in range(x+1):\n",
    "        result = result + square(i)\n",
    "    return result\n",
    "\n",
    "print(my_sum(3))\n",
    "print(my_sum(5))"
   ]
  },
  {
   "cell_type": "markdown",
   "id": "b8ebbce6",
   "metadata": {},
   "source": [
    "## 5-9. 함수의 결과값을 입력값으로 사용"
   ]
  },
  {
   "cell_type": "code",
   "execution_count": 62,
   "id": "8c8887ca",
   "metadata": {},
   "outputs": [
    {
     "name": "stdout",
     "output_type": "stream",
     "text": [
      "10\n"
     ]
    }
   ],
   "source": [
    "def f(x):\n",
    "    return x**2\n",
    "\n",
    "def g(y):\n",
    "    return y+1\n",
    "\n",
    "print(g(f(3)))\n"
   ]
  },
  {
   "cell_type": "markdown",
   "id": "f84f5059-dbfa-4475-99fa-a5791e14bf00",
   "metadata": {},
   "source": [
    "## 연습문제"
   ]
  },
  {
   "cell_type": "markdown",
   "id": "aa0a2bc6-b9df-486b-b63d-3a0a0fb31b9a",
   "metadata": {},
   "source": [
    "7-1. 입력값 a,b를 순서대로 받아 a를 b로 나눈 몫과 나머지를 각각 반환하는 함수를 만들어보시오. 함수의 이름은 mok이다."
   ]
  },
  {
   "cell_type": "code",
   "execution_count": 30,
   "id": "88dea639-c4ec-4275-a41d-c63e66d3b7aa",
   "metadata": {},
   "outputs": [],
   "source": [
    "def mok(a, b):\n",
    "    ## 여기에 작성해 보세요.\n",
    "    \n",
    "    ##\n",
    "    return x,y"
   ]
  },
  {
   "cell_type": "code",
   "execution_count": 32,
   "id": "652c9397-1d56-46d9-84cc-bd5d656c0638",
   "metadata": {},
   "outputs": [],
   "source": [
    "# m,n = mok(7,2)\n",
    "# print(m,n)"
   ]
  },
  {
   "cell_type": "markdown",
   "id": "6707477d-6dee-49f7-93b3-07adf7990503",
   "metadata": {},
   "source": [
    "## 연습문제"
   ]
  },
  {
   "cell_type": "markdown",
   "id": "e82991be-676d-4241-bf41-8eb33e98fe25",
   "metadata": {
    "tags": []
   },
   "source": [
    "7-2. 어떤 수 n을 입력하면 1부터 n까지의 합을 계산하여 출력하는 함수를 만들어보시오. "
   ]
  },
  {
   "cell_type": "code",
   "execution_count": 31,
   "id": "5fde9bd0-e7c1-40a6-affd-e7ee5284b35b",
   "metadata": {},
   "outputs": [],
   "source": [
    "def my_sum(number):    \n",
    "    ## 이 부분을 작성해 보시오.\n",
    "    \n",
    "    ##\n",
    "    return result    "
   ]
  },
  {
   "cell_type": "code",
   "execution_count": 33,
   "id": "e2f861b0-f56b-458e-abec-a2468452cf33",
   "metadata": {},
   "outputs": [],
   "source": [
    "# y = my_sum(10)\n",
    "# print(y) ## 55가 출력되어야 함"
   ]
  },
  {
   "cell_type": "markdown",
   "id": "33097b04-20c7-4e1f-a48f-6729a308e061",
   "metadata": {},
   "source": [
    "## 연습문제"
   ]
  },
  {
   "cell_type": "markdown",
   "id": "4630ff63-3e9e-42de-9ba0-a46ea88b0559",
   "metadata": {},
   "source": [
    "7-3. 어떤 수 n을 입력여 짝수면 True, 홀수면 False를 출력하는 함수를 만들어보시오."
   ]
  },
  {
   "cell_type": "code",
   "execution_count": 34,
   "id": "25b9b338-f39c-4112-9875-246fbce2d31b",
   "metadata": {},
   "outputs": [],
   "source": [
    "def check_even(number):\n",
    "    ## 이 부분을 작성해 보시오.\n",
    "    \n",
    "    ##\n",
    "    return result    "
   ]
  },
  {
   "cell_type": "code",
   "execution_count": 35,
   "id": "279da38c-715f-4e6f-a544-a4fd37912784",
   "metadata": {},
   "outputs": [],
   "source": [
    "# y = check_even(7)\n",
    "# print(y) ## False가 출력되어야 함"
   ]
  },
  {
   "cell_type": "markdown",
   "id": "97b90ad5-d2bd-4e2c-8a29-d3efe4fd1012",
   "metadata": {},
   "source": [
    "## 연습문제"
   ]
  },
  {
   "cell_type": "markdown",
   "id": "7504222f-dd8b-4ab5-80ef-e8770459f2e1",
   "metadata": {},
   "source": [
    "7-4. 어떤수 n을 입력하면 1부터 n까지 짝수의 합만 계산하여 출력하는 함수를 만들어보시오. 위에서 작성한 check_even을 사용할 것.\n"
   ]
  },
  {
   "cell_type": "code",
   "execution_count": 36,
   "id": "3b78e3d8-e95a-4da4-8a95-1f0efc810412",
   "metadata": {},
   "outputs": [],
   "source": [
    "def myEvenSum(n):\n",
    "    ## 이 부분을 작성해 보시오.\n",
    "    \n",
    "    ##    \n",
    "    return result"
   ]
  },
  {
   "cell_type": "code",
   "execution_count": 37,
   "id": "580c906b-f718-44b6-99a6-a30667588fee",
   "metadata": {},
   "outputs": [],
   "source": [
    "# y = myEvenSum(7)\n",
    "# print(y) ## 2+4+6 = 12"
   ]
  }
 ],
 "metadata": {
  "kernelspec": {
   "display_name": "Python 3 (ipykernel)",
   "language": "python",
   "name": "python3"
  },
  "language_info": {
   "codemirror_mode": {
    "name": "ipython",
    "version": 3
   },
   "file_extension": ".py",
   "mimetype": "text/x-python",
   "name": "python",
   "nbconvert_exporter": "python",
   "pygments_lexer": "ipython3",
   "version": "3.8.10"
  },
  "toc": {
   "base_numbering": 1,
   "nav_menu": {},
   "number_sections": false,
   "sideBar": true,
   "skip_h1_title": false,
   "title_cell": "Table of Contents",
   "title_sidebar": "Contents",
   "toc_cell": false,
   "toc_position": {},
   "toc_section_display": true,
   "toc_window_display": false
  }
 },
 "nbformat": 4,
 "nbformat_minor": 5
}
