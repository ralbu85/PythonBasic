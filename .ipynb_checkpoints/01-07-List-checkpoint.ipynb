{
 "cells": [
  {
   "cell_type": "markdown",
   "id": "28edca16",
   "metadata": {},
   "source": [
    "## 리스트 자료구조"
   ]
  },
  {
   "cell_type": "markdown",
   "id": "9002c98f",
   "metadata": {},
   "source": [
    "## 7-1. 리스트의 성질"
   ]
  },
  {
   "cell_type": "code",
   "execution_count": 3,
   "id": "6fd3d7b8",
   "metadata": {},
   "outputs": [
    {
     "data": {
      "text/plain": [
       "[88, 90, 100]"
      ]
     },
     "execution_count": 3,
     "metadata": {},
     "output_type": "execute_result"
    }
   ],
   "source": [
    "[88, 90, 100]"
   ]
  },
  {
   "cell_type": "code",
   "execution_count": 4,
   "id": "fdf4e8d6",
   "metadata": {},
   "outputs": [
    {
     "name": "stdout",
     "output_type": "stream",
     "text": [
      "[1, 3, 5, 7, 9]\n"
     ]
    }
   ],
   "source": [
    "x=[1,3,5,7,9]\n",
    "print(x)"
   ]
  },
  {
   "cell_type": "code",
   "execution_count": 5,
   "id": "915e99c9",
   "metadata": {},
   "outputs": [
    {
     "data": {
      "text/plain": [
       "['hello', 2.0, 5, [10, 20]]"
      ]
     },
     "execution_count": 5,
     "metadata": {},
     "output_type": "execute_result"
    }
   ],
   "source": [
    "albist =  [\"hello\", 2.0, 5, [10, 20]]\n",
    "albist"
   ]
  },
  {
   "cell_type": "markdown",
   "id": "17ed074d",
   "metadata": {},
   "source": [
    "## 7-2. 리스트 인덱싱"
   ]
  },
  {
   "cell_type": "code",
   "execution_count": 6,
   "id": "acb3a92f",
   "metadata": {},
   "outputs": [
    {
     "data": {
      "text/plain": [
       "1"
      ]
     },
     "execution_count": 6,
     "metadata": {},
     "output_type": "execute_result"
    }
   ],
   "source": [
    "a=[1,3,5,7,9]\n",
    "a[0]"
   ]
  },
  {
   "cell_type": "code",
   "execution_count": 7,
   "id": "300159f0",
   "metadata": {},
   "outputs": [
    {
     "data": {
      "text/plain": [
       "3"
      ]
     },
     "execution_count": 7,
     "metadata": {},
     "output_type": "execute_result"
    }
   ],
   "source": [
    "a[1]"
   ]
  },
  {
   "cell_type": "code",
   "execution_count": 8,
   "id": "51298c9c",
   "metadata": {},
   "outputs": [
    {
     "data": {
      "text/plain": [
       "5"
      ]
     },
     "execution_count": 8,
     "metadata": {},
     "output_type": "execute_result"
    }
   ],
   "source": [
    "a[2]"
   ]
  },
  {
   "cell_type": "code",
   "execution_count": 9,
   "id": "34e684da",
   "metadata": {},
   "outputs": [
    {
     "data": {
      "text/plain": [
       "9"
      ]
     },
     "execution_count": 9,
     "metadata": {},
     "output_type": "execute_result"
    }
   ],
   "source": [
    "a[-1]"
   ]
  },
  {
   "cell_type": "markdown",
   "id": "12d9ea99",
   "metadata": {},
   "source": [
    "## 7-3. 리스트 슬라이싱"
   ]
  },
  {
   "cell_type": "code",
   "execution_count": 10,
   "id": "4681c34b",
   "metadata": {},
   "outputs": [
    {
     "name": "stdout",
     "output_type": "stream",
     "text": [
      "[1, 3, 5]\n"
     ]
    }
   ],
   "source": [
    "a=[1,3,5,7,9]\n",
    "print(a[0:3])"
   ]
  },
  {
   "cell_type": "code",
   "execution_count": 11,
   "id": "f1a95f62",
   "metadata": {},
   "outputs": [
    {
     "name": "stdout",
     "output_type": "stream",
     "text": [
      "[3, 5]\n"
     ]
    }
   ],
   "source": [
    "print(a[1:3])"
   ]
  },
  {
   "cell_type": "code",
   "execution_count": 12,
   "id": "61fa4b83",
   "metadata": {},
   "outputs": [
    {
     "name": "stdout",
     "output_type": "stream",
     "text": [
      "[1, 3]\n",
      "[5, 7, 9]\n"
     ]
    }
   ],
   "source": [
    "print(a[:2])\n",
    "print(a[2:])"
   ]
  },
  {
   "cell_type": "markdown",
   "id": "66f20e11",
   "metadata": {},
   "source": [
    "## 7-4. 리스트의 값을 바꾸기"
   ]
  },
  {
   "cell_type": "code",
   "execution_count": 13,
   "id": "8c701a6c",
   "metadata": {},
   "outputs": [
    {
     "data": {
      "text/plain": [
       "[1, 3, 5, 7, 9]"
      ]
     },
     "execution_count": 13,
     "metadata": {},
     "output_type": "execute_result"
    }
   ],
   "source": [
    "x = list(range(1,10,2))\n",
    "x"
   ]
  },
  {
   "cell_type": "code",
   "execution_count": 14,
   "id": "4d2c3c1d",
   "metadata": {},
   "outputs": [
    {
     "data": {
      "text/plain": [
       "[11, 3, 5, 7, 9]"
      ]
     },
     "execution_count": 14,
     "metadata": {},
     "output_type": "execute_result"
    }
   ],
   "source": [
    "x[0] = 11\n",
    "x"
   ]
  },
  {
   "cell_type": "code",
   "execution_count": 15,
   "id": "6e6d7af5",
   "metadata": {},
   "outputs": [
    {
     "data": {
      "text/plain": [
       "[11, 12, 5, 7, 9]"
      ]
     },
     "execution_count": 15,
     "metadata": {},
     "output_type": "execute_result"
    }
   ],
   "source": [
    "x[1] = 12\n",
    "x"
   ]
  },
  {
   "cell_type": "markdown",
   "id": "1767ac25-8b60-4686-9380-a066c82632c0",
   "metadata": {},
   "source": [
    "## 연습문제\n",
    "* list(range(20))를 만든다\n",
    "* 인덱스가 짝수인 경우 해당 값을 두배로 바꾸는 작업을 수행하시오"
   ]
  },
  {
   "cell_type": "code",
   "execution_count": 4,
   "id": "7526a0a2-7257-410e-9ae5-bd99c8aad4d3",
   "metadata": {},
   "outputs": [
    {
     "name": "stdout",
     "output_type": "stream",
     "text": [
      "[0, 1, 4, 3, 8, 5, 12, 7, 16, 9, 20, 11, 24, 13, 28, 15, 32, 17, 36, 19]\n"
     ]
    }
   ],
   "source": [
    "aList = list(range(20))\n",
    "\n",
    "for i in range(20):\n",
    "    if i%2 == 0:\n",
    "        aList[i] = aList[i] * 2\n",
    "\n",
    "print(aList)"
   ]
  },
  {
   "cell_type": "markdown",
   "id": "4af262be-fe75-4ce6-b038-df55c958c699",
   "metadata": {},
   "source": [
    "## 리스트의 길이\n",
    "* len(리스트)하면 리스트에 담긴 값의 갯수를 얻을 수 있다"
   ]
  },
  {
   "cell_type": "code",
   "execution_count": 1,
   "id": "dff4d977-bc37-465a-93bf-33004ad81fa6",
   "metadata": {},
   "outputs": [
    {
     "data": {
      "text/plain": [
       "11"
      ]
     },
     "execution_count": 1,
     "metadata": {},
     "output_type": "execute_result"
    }
   ],
   "source": [
    "x = [3,565,1123,5,2,5,7,8,3,41,36]\n",
    "len(x)"
   ]
  },
  {
   "cell_type": "code",
   "execution_count": 2,
   "id": "37d775d4-9967-43cc-92d7-c69e23761c7e",
   "metadata": {},
   "outputs": [
    {
     "name": "stdout",
     "output_type": "stream",
     "text": [
      "3\n",
      "565\n",
      "1123\n",
      "5\n",
      "2\n",
      "5\n",
      "7\n",
      "8\n",
      "3\n",
      "41\n",
      "36\n"
     ]
    }
   ],
   "source": [
    "for i in x:\n",
    "    print(i)"
   ]
  },
  {
   "cell_type": "code",
   "execution_count": 3,
   "id": "33d6d28e-2951-482d-aabc-08ec2a8c96c1",
   "metadata": {},
   "outputs": [
    {
     "name": "stdout",
     "output_type": "stream",
     "text": [
      "0 3\n",
      "1 565\n",
      "2 1123\n",
      "3 5\n",
      "4 2\n",
      "5 5\n",
      "6 7\n",
      "7 8\n",
      "8 3\n",
      "9 41\n",
      "10 36\n"
     ]
    }
   ],
   "source": [
    "for i in range(len(x)):\n",
    "    print(i, x[i])"
   ]
  },
  {
   "cell_type": "markdown",
   "id": "c9e869e4-5cee-42ce-aa30-9233b7f6e81e",
   "metadata": {},
   "source": [
    "## 연습문제\n",
    "* 다음을 만족하는 함수를 만드시오\n",
    "    - 이름: doubleList\n",
    "    - 입력값: 리스트[1,2,3]\n",
    "    - 출력값: 리스트에 들어있는 값에 두배 [2,4,6]"
   ]
  },
  {
   "cell_type": "markdown",
   "id": "45ae7185",
   "metadata": {},
   "source": [
    "## 7-5. (리스트의 마지막에) 값 추가하기"
   ]
  },
  {
   "cell_type": "code",
   "execution_count": 16,
   "id": "701f7682",
   "metadata": {},
   "outputs": [
    {
     "data": {
      "text/plain": [
       "[11, 12, 5, 7, 9, 1]"
      ]
     },
     "execution_count": 16,
     "metadata": {},
     "output_type": "execute_result"
    }
   ],
   "source": [
    "x.append(1)\n",
    "x"
   ]
  },
  {
   "cell_type": "code",
   "execution_count": 17,
   "id": "bcb77027",
   "metadata": {},
   "outputs": [
    {
     "data": {
      "text/plain": [
       "[11, 12, 5, 7, 9, 1, 3]"
      ]
     },
     "execution_count": 17,
     "metadata": {},
     "output_type": "execute_result"
    }
   ],
   "source": [
    "x.append(3)\n",
    "x"
   ]
  },
  {
   "cell_type": "markdown",
   "id": "6b73500e-8dee-43a2-b81d-c82e41516a9e",
   "metadata": {},
   "source": [
    "## 연습문제\n",
    "* 다음 조건을 만족하는 함수를 만드시오\n",
    "    - 함수이름: square\n",
    "    - 입력값: n\n",
    "    - 출력값: [1^2, 2^2, ..., n^2]"
   ]
  },
  {
   "cell_type": "markdown",
   "id": "16b425b8-faa8-41af-9d20-a9016a9a3d8f",
   "metadata": {},
   "source": [
    "* 다음 조건을 만족하는 함수를 만드시오\n",
    "    - 설명: 주어진 리스트에서 짝수만 골라서 리스트로 리턴하는 함수\n",
    "    - 함수이름: even_list\n",
    "    - 입력값: 리스트 (6,5,12,14,7,9,10)\n",
    "    - 출력값: 리스트 (6,12,14,10)"
   ]
  },
  {
   "cell_type": "markdown",
   "id": "d9238495-0fc4-426a-a6c1-860870d21943",
   "metadata": {},
   "source": [
    "## 7-6. 리스트에 값이 들어있는지 확인"
   ]
  },
  {
   "cell_type": "code",
   "execution_count": 18,
   "id": "5d2a6e16-4183-48b2-a097-f1959afe72e1",
   "metadata": {},
   "outputs": [
    {
     "data": {
      "text/plain": [
       "True"
      ]
     },
     "execution_count": 18,
     "metadata": {},
     "output_type": "execute_result"
    }
   ],
   "source": [
    "11 in x"
   ]
  },
  {
   "cell_type": "code",
   "execution_count": 19,
   "id": "4c99a833-5169-4709-b1b6-5a2976e819f9",
   "metadata": {},
   "outputs": [
    {
     "data": {
      "text/plain": [
       "False"
      ]
     },
     "execution_count": 19,
     "metadata": {},
     "output_type": "execute_result"
    }
   ],
   "source": [
    "10 in x"
   ]
  },
  {
   "cell_type": "code",
   "execution_count": 20,
   "id": "6b4157c4-d6bb-4c69-b115-93d6047f2c7d",
   "metadata": {},
   "outputs": [
    {
     "name": "stdout",
     "output_type": "stream",
     "text": [
      "11 is in x\n"
     ]
    }
   ],
   "source": [
    "if 11 in x:\n",
    "    print(\"11 is in x\")"
   ]
  },
  {
   "cell_type": "markdown",
   "id": "171cde8f-6c58-4f44-a464-1c6d2a428395",
   "metadata": {},
   "source": [
    "## 연습문제\n",
    "* 다음 조건을 만족하는 함수를 만드시오\n",
    "    - 설명: 주어진 리스트에서 주어진 숫자의 갯수를 세는 함수를 만들어보시오\n",
    "    - 입력값1: 리스트(2,4,5,1,2,2,4,5,2)\n",
    "    - 입력값2: 갯수를 세고 싶은 숫자 (2)\n",
    "    - 출력값: 리스트 안에 들어있는 특정 숫자의 갯수, 4"
   ]
  },
  {
   "cell_type": "markdown",
   "id": "8925dcd8",
   "metadata": {},
   "source": [
    "## 7-6. 리스트에서 값 지우기"
   ]
  },
  {
   "cell_type": "code",
   "execution_count": 29,
   "id": "1bec8b27",
   "metadata": {},
   "outputs": [
    {
     "data": {
      "text/plain": [
       "[12, 5, 7, 9, 1, 3]"
      ]
     },
     "execution_count": 29,
     "metadata": {},
     "output_type": "execute_result"
    }
   ],
   "source": [
    "del x[0]\n",
    "x"
   ]
  },
  {
   "cell_type": "code",
   "execution_count": 30,
   "id": "694a7e42",
   "metadata": {},
   "outputs": [
    {
     "data": {
      "text/plain": [
       "[5, 7, 9, 1, 3]"
      ]
     },
     "execution_count": 30,
     "metadata": {},
     "output_type": "execute_result"
    }
   ],
   "source": [
    "del x[0]\n",
    "x"
   ]
  },
  {
   "cell_type": "code",
   "execution_count": 31,
   "id": "d376fd03",
   "metadata": {},
   "outputs": [
    {
     "data": {
      "text/plain": [
       "[5, 7, 9, 3]"
      ]
     },
     "execution_count": 31,
     "metadata": {},
     "output_type": "execute_result"
    }
   ],
   "source": [
    "del x[3]\n",
    "x"
   ]
  },
  {
   "cell_type": "markdown",
   "id": "f0b10af1",
   "metadata": {},
   "source": [
    "## 7-7. 복수할당"
   ]
  },
  {
   "cell_type": "code",
   "execution_count": 32,
   "id": "63934313",
   "metadata": {},
   "outputs": [],
   "source": [
    "x = [1,2,3]\n",
    "a,b,c = x"
   ]
  },
  {
   "cell_type": "code",
   "execution_count": 33,
   "id": "3a3faec8",
   "metadata": {},
   "outputs": [
    {
     "name": "stdout",
     "output_type": "stream",
     "text": [
      "1 2 3\n"
     ]
    }
   ],
   "source": [
    "print(a,b,c)"
   ]
  },
  {
   "cell_type": "markdown",
   "id": "cd80c80d",
   "metadata": {},
   "source": [
    "## 7-8. 리스트 메소드"
   ]
  },
  {
   "cell_type": "code",
   "execution_count": 6,
   "id": "5da05fcd",
   "metadata": {},
   "outputs": [
    {
     "name": "stdout",
     "output_type": "stream",
     "text": [
      "[5, 12, 27, 3, 12]\n",
      "[5, 12, 27, 50, 3, 12]\n",
      "2\n",
      "[3, 5, 12, 12, 27, 50]\n"
     ]
    }
   ],
   "source": [
    "#insert\n",
    "mylist = [5,27,3,12]\n",
    "mylist.insert(1,12)\n",
    "print(mylist)\n",
    "mylist.insert(3,50)\n",
    "print(mylist)\n",
    "\n",
    "#count\n",
    "print(mylist.count(12))\n",
    "\n",
    "#sort\n",
    "mylist.sort()\n",
    "print(mylist)"
   ]
  }
 ],
 "metadata": {
  "kernelspec": {
   "display_name": "Python 3 (ipykernel)",
   "language": "python",
   "name": "python3"
  },
  "language_info": {
   "codemirror_mode": {
    "name": "ipython",
    "version": 3
   },
   "file_extension": ".py",
   "mimetype": "text/x-python",
   "name": "python",
   "nbconvert_exporter": "python",
   "pygments_lexer": "ipython3",
   "version": "3.8.10"
  }
 },
 "nbformat": 4,
 "nbformat_minor": 5
}
