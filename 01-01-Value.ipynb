{
 "cells": [
  {
   "cell_type": "markdown",
   "id": "56c64816",
   "metadata": {},
   "source": [
    "# 1. 값(Value)"
   ]
  },
  {
   "cell_type": "markdown",
   "id": "68c5ad70",
   "metadata": {},
   "source": [
    "## 1-1. 값의 종류\n",
    "- 숫자\n",
    "- 문자(문자열)\n",
    "- 불리언(논리)"
   ]
  },
  {
   "cell_type": "markdown",
   "id": "c93dfbbc",
   "metadata": {},
   "source": [
    "## 1-2. 숫자"
   ]
  },
  {
   "cell_type": "markdown",
   "id": "089b71a4",
   "metadata": {},
   "source": [
    "- 정수형 숫자도 가능하다"
   ]
  },
  {
   "cell_type": "code",
   "execution_count": 1,
   "id": "acdb482e",
   "metadata": {},
   "outputs": [
    {
     "data": {
      "text/plain": [
       "1"
      ]
     },
     "execution_count": 1,
     "metadata": {},
     "output_type": "execute_result"
    }
   ],
   "source": [
    "1"
   ]
  },
  {
   "cell_type": "markdown",
   "id": "e394d714",
   "metadata": {},
   "source": [
    "- 음수도 가능하다"
   ]
  },
  {
   "cell_type": "code",
   "execution_count": 2,
   "id": "279a66a5",
   "metadata": {},
   "outputs": [
    {
     "data": {
      "text/plain": [
       "-2001"
      ]
     },
     "execution_count": 2,
     "metadata": {},
     "output_type": "execute_result"
    }
   ],
   "source": [
    "-2001"
   ]
  },
  {
   "cell_type": "markdown",
   "id": "6dabed00",
   "metadata": {},
   "source": [
    "- 소숫점도 가능하다"
   ]
  },
  {
   "cell_type": "code",
   "execution_count": 3,
   "id": "7bff627b",
   "metadata": {},
   "outputs": [
    {
     "data": {
      "text/plain": [
       "11.5"
      ]
     },
     "execution_count": 3,
     "metadata": {},
     "output_type": "execute_result"
    }
   ],
   "source": [
    "11.5"
   ]
  },
  {
   "cell_type": "markdown",
   "id": "7f4fc9a4",
   "metadata": {},
   "source": [
    "## 1-2. 문자"
   ]
  },
  {
   "cell_type": "markdown",
   "id": "fb4b6c83",
   "metadata": {},
   "source": [
    "- 숫자를 제외한 알파벳 문자를 바로 입력시 에러가 난다"
   ]
  },
  {
   "cell_type": "code",
   "execution_count": 4,
   "id": "1d9dd33b",
   "metadata": {},
   "outputs": [
    {
     "ename": "NameError",
     "evalue": "name 'x' is not defined",
     "output_type": "error",
     "traceback": [
      "\u001b[0;31m---------------------------------------------------------------------------\u001b[0m",
      "\u001b[0;31mNameError\u001b[0m                                 Traceback (most recent call last)",
      "\u001b[0;32m<ipython-input-4-6fcf9dfbd479>\u001b[0m in \u001b[0;36m<module>\u001b[0;34m\u001b[0m\n\u001b[0;32m----> 1\u001b[0;31m \u001b[0mx\u001b[0m\u001b[0;34m\u001b[0m\u001b[0;34m\u001b[0m\u001b[0m\n\u001b[0m",
      "\u001b[0;31mNameError\u001b[0m: name 'x' is not defined"
     ]
    }
   ],
   "source": [
    "x"
   ]
  },
  {
   "cell_type": "markdown",
   "id": "f73739ba",
   "metadata": {},
   "source": [
    "- 파이썬에서 문자열을 처리해주기 위해서는 따옴표로 문자를 감싸야 한다"
   ]
  },
  {
   "cell_type": "code",
   "execution_count": 6,
   "id": "97fdf0f7",
   "metadata": {},
   "outputs": [
    {
     "data": {
      "text/plain": [
       "'x'"
      ]
     },
     "execution_count": 6,
     "metadata": {},
     "output_type": "execute_result"
    }
   ],
   "source": [
    "'x'"
   ]
  },
  {
   "cell_type": "markdown",
   "id": "cdad51c7",
   "metadata": {},
   "source": [
    "- 문자열: 2개이상의 문자가 연달아 존재하는 경우 -> 역시 문자로 취급된다"
   ]
  },
  {
   "cell_type": "code",
   "execution_count": 5,
   "id": "e8994803",
   "metadata": {},
   "outputs": [
    {
     "data": {
      "text/plain": [
       "'String'"
      ]
     },
     "execution_count": 5,
     "metadata": {},
     "output_type": "execute_result"
    }
   ],
   "source": [
    "'String'"
   ]
  },
  {
   "cell_type": "markdown",
   "id": "a20c340f",
   "metadata": {},
   "source": [
    "- 공백도 문자열로 취급된다"
   ]
  },
  {
   "cell_type": "code",
   "execution_count": 7,
   "id": "cdea6b01",
   "metadata": {},
   "outputs": [
    {
     "data": {
      "text/plain": [
       "' '"
      ]
     },
     "execution_count": 7,
     "metadata": {},
     "output_type": "execute_result"
    }
   ],
   "source": [
    "' '"
   ]
  },
  {
   "cell_type": "markdown",
   "id": "f6587930",
   "metadata": {},
   "source": [
    "- 숫자도 따옴표 안에 들어가면 문자열로 취급된다"
   ]
  },
  {
   "cell_type": "code",
   "execution_count": 8,
   "id": "1ce1021b",
   "metadata": {},
   "outputs": [
    {
     "data": {
      "text/plain": [
       "'11111'"
      ]
     },
     "execution_count": 8,
     "metadata": {},
     "output_type": "execute_result"
    }
   ],
   "source": [
    "'11111'"
   ]
  },
  {
   "cell_type": "markdown",
   "id": "e576fc87",
   "metadata": {},
   "source": [
    "- 다음처럼 여러 종류의 문자가 합쳐져서 문자열을 형성할 수 있다."
   ]
  },
  {
   "cell_type": "code",
   "execution_count": 9,
   "id": "ad98e17d",
   "metadata": {},
   "outputs": [
    {
     "data": {
      "text/plain": [
       "'Hello World My name is 11111 abcde'"
      ]
     },
     "execution_count": 9,
     "metadata": {},
     "output_type": "execute_result"
    }
   ],
   "source": [
    "'Hello World My name is 11111 abcde'"
   ]
  },
  {
   "cell_type": "markdown",
   "id": "63b4b371",
   "metadata": {},
   "source": [
    "## 1-3. 불리언 값"
   ]
  },
  {
   "cell_type": "markdown",
   "id": "efffefc0",
   "metadata": {},
   "source": [
    "- 불리언: 참/거짓 두가지 경우만을 나타내는 특수한 값\n",
    "- 조건문과 함께 프로그램의 분기에 사용됨"
   ]
  },
  {
   "cell_type": "code",
   "execution_count": 10,
   "id": "255eb26d",
   "metadata": {},
   "outputs": [
    {
     "data": {
      "text/plain": [
       "True"
      ]
     },
     "execution_count": 10,
     "metadata": {},
     "output_type": "execute_result"
    }
   ],
   "source": [
    "True"
   ]
  },
  {
   "cell_type": "code",
   "execution_count": 11,
   "id": "1e634322",
   "metadata": {},
   "outputs": [
    {
     "data": {
      "text/plain": [
       "False"
      ]
     },
     "execution_count": 11,
     "metadata": {},
     "output_type": "execute_result"
    }
   ],
   "source": [
    "False"
   ]
  },
  {
   "cell_type": "code",
   "execution_count": 12,
   "id": "824a057c",
   "metadata": {},
   "outputs": [
    {
     "ename": "NameError",
     "evalue": "name 'true' is not defined",
     "output_type": "error",
     "traceback": [
      "\u001b[0;31m---------------------------------------------------------------------------\u001b[0m",
      "\u001b[0;31mNameError\u001b[0m                                 Traceback (most recent call last)",
      "\u001b[0;32m<ipython-input-12-724ba28f4a9a>\u001b[0m in \u001b[0;36m<module>\u001b[0;34m\u001b[0m\n\u001b[0;32m----> 1\u001b[0;31m \u001b[0mtrue\u001b[0m\u001b[0;34m\u001b[0m\u001b[0;34m\u001b[0m\u001b[0m\n\u001b[0m",
      "\u001b[0;31mNameError\u001b[0m: name 'true' is not defined"
     ]
    }
   ],
   "source": [
    "true"
   ]
  },
  {
   "cell_type": "code",
   "execution_count": 13,
   "id": "3a780d79",
   "metadata": {},
   "outputs": [
    {
     "ename": "NameError",
     "evalue": "name 'false' is not defined",
     "output_type": "error",
     "traceback": [
      "\u001b[0;31m---------------------------------------------------------------------------\u001b[0m",
      "\u001b[0;31mNameError\u001b[0m                                 Traceback (most recent call last)",
      "\u001b[0;32m<ipython-input-13-b73d74fcede9>\u001b[0m in \u001b[0;36m<module>\u001b[0;34m\u001b[0m\n\u001b[0;32m----> 1\u001b[0;31m \u001b[0mfalse\u001b[0m\u001b[0;34m\u001b[0m\u001b[0;34m\u001b[0m\u001b[0m\n\u001b[0m",
      "\u001b[0;31mNameError\u001b[0m: name 'false' is not defined"
     ]
    }
   ],
   "source": [
    "false"
   ]
  },
  {
   "cell_type": "markdown",
   "id": "7acd4ef4-e8ae-48f1-ab94-08bc3b038269",
   "metadata": {},
   "source": [
    "## 연습문제"
   ]
  },
  {
   "cell_type": "markdown",
   "id": "8746ba05-5bf1-41b4-85ab-60f1a3c4a84d",
   "metadata": {},
   "source": [
    "다양한 종류의 값을 시도해 보세요"
   ]
  }
 ],
 "metadata": {
  "kernelspec": {
   "display_name": "Python 3 (ipykernel)",
   "language": "python",
   "name": "python3"
  },
  "language_info": {
   "codemirror_mode": {
    "name": "ipython",
    "version": 3
   },
   "file_extension": ".py",
   "mimetype": "text/x-python",
   "name": "python",
   "nbconvert_exporter": "python",
   "pygments_lexer": "ipython3",
   "version": "3.8.10"
  }
 },
 "nbformat": 4,
 "nbformat_minor": 5
}
