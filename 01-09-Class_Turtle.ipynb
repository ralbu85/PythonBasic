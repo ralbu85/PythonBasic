{
 "cells": [
  {
   "cell_type": "code",
   "execution_count": 1,
   "id": "31dea6eb",
   "metadata": {
    "ExecuteTime": {
     "end_time": "2022-09-01T09:25:55.294185Z",
     "start_time": "2022-09-01T09:25:47.161163Z"
    }
   },
   "outputs": [
    {
     "name": "stdout",
     "output_type": "stream",
     "text": [
      "Requirement already satisfied: ColabTurtlePlus in /opt/conda/lib/python3.8/site-packages (2.0.1)\n",
      "\u001b[33mWARNING: Running pip as the 'root' user can result in broken permissions and conflicting behaviour with the system package manager. It is recommended to use a virtual environment instead: https://pip.pypa.io/warnings/venv\u001b[0m\n",
      "\u001b[33mWARNING: You are using pip version 21.3.1; however, version 23.1.2 is available.\n",
      "You should consider upgrading via the '/opt/conda/bin/python3.8 -m pip install --upgrade pip' command.\u001b[0m\n"
     ]
    }
   ],
   "source": [
    "!pip install ColabTurtlePlus"
   ]
  },
  {
   "cell_type": "code",
   "execution_count": 2,
   "id": "977d9a5b",
   "metadata": {
    "ExecuteTime": {
     "end_time": "2022-09-01T09:31:28.057541Z",
     "start_time": "2022-09-01T09:31:27.720578Z"
    },
    "code_folding": []
   },
   "outputs": [
    {
     "name": "stdout",
     "output_type": "stream",
     "text": [
      "Put clearscreen() as the first line in a cell (after the import command) to re-run turtle commands in the cell\n"
     ]
    },
    {
     "data": {
      "text/html": [
       "\n",
       "      <svg width=\"500\" height=\"300\">  \n",
       "        <rect width=\"100%\" height=\"100%\" style=\"fill:white;stroke:;stroke-width:1\"/>\n",
       "        \n",
       "        \n",
       "        \n",
       "        \n",
       "        \n",
       "        <g id=\"classic\" visibility=\"visible\" transform=\"rotate(-90,250.0,150.0) translate(250.0, 150.0)\">\n",
       "<polygon points=\"-5,-4.5 0,-2.5 5,-4.5 0,4.5\" transform=\"skewX(0) scale(1,1)\" style=\"stroke:black;fill:black;stroke-width:1\" />\n",
       "</g>\n",
       "      </svg>\n",
       "    "
      ],
      "text/plain": [
       "<IPython.core.display.HTML object>"
      ]
     },
     "metadata": {},
     "output_type": "display_data"
    }
   ],
   "source": [
    "from ColabTurtlePlus.Turtle import *\n",
    "clearscreen()\n",
    "setup(500,300)\n",
    "t = Turtle() # 새로운 객체 만들기"
   ]
  },
  {
   "cell_type": "code",
   "execution_count": 3,
   "id": "fe9167c8-968f-4a0d-b636-a8baaae58454",
   "metadata": {},
   "outputs": [
    {
     "data": {
      "text/html": [
       "\n",
       "      <svg width=\"500\" height=\"300\">  \n",
       "        <rect width=\"100%\" height=\"100%\" style=\"fill:white;stroke:;stroke-width:1\"/>\n",
       "        \n",
       "        \n",
       "        \n",
       "        \n",
       "        \n",
       "        <g id=\"classic\" visibility=\"visible\" transform=\"rotate(-90,250.0,150.0) translate(250.0, 150.0)\">\n",
       "<polygon points=\"-5,-4.5 0,-2.5 5,-4.5 0,4.5\" transform=\"skewX(0) scale(1,1)\" style=\"stroke:black;fill:black;stroke-width:1\" />\n",
       "</g>\n",
       "      </svg>\n",
       "    "
      ],
      "text/plain": [
       "<IPython.core.display.HTML object>"
      ]
     },
     "metadata": {},
     "output_type": "display_data"
    },
    {
     "name": "stdout",
     "output_type": "stream",
     "text": [
      "(0.0, 0.0)\n",
      "0\n",
      "('black', 'black')\n"
     ]
    }
   ],
   "source": [
    "from ColabTurtlePlus.Turtle import *\n",
    "clearscreen()\n",
    "setup(500,300)\n",
    "t = Turtle() # 새로운 객체 만들기\n",
    "print(t.position()) #객체의 상태\n",
    "print(t.heading()) #객체의 상태\n",
    "print(t.color()) #객체의 상태"
   ]
  },
  {
   "cell_type": "code",
   "execution_count": 4,
   "id": "32052d4f-cb7d-4b5f-9cdd-f9e9a5bff96b",
   "metadata": {},
   "outputs": [
    {
     "data": {
      "text/html": [
       "\n",
       "      <svg width=\"500\" height=\"300\">  \n",
       "        <rect width=\"100%\" height=\"100%\" style=\"fill:white;stroke:;stroke-width:1\"/>\n",
       "        \n",
       "        \n",
       "        <line x1=\"250.0\" y1=\"150.0\" x2=\"295.0\" y2=\"150.0\" stroke-linecap=\"round\" style=\"stroke:black;stroke-width:1\" /><line x1=\"295.0\" y1=\"150.0\" x2=\"326.82\" y2=\"118.18\" stroke-linecap=\"round\" style=\"stroke:black;stroke-width:1\" /><line x1=\"326.82\" y1=\"118.18\" x2=\"333.89106781186547\" y2=\"111.10893218813453\" stroke-linecap=\"round\" style=\"stroke:red;stroke-width:1\" /><line x1=\"333.89106781186547\" y1=\"111.10893218813453\" x2=\"340.96213562373094\" y2=\"104.03786437626906\" stroke-linecap=\"round\" style=\"stroke:red;stroke-width:1\" /><line x1=\"340.96213562373094\" y1=\"104.03786437626906\" x2=\"348.0332034355964\" y2=\"96.96679656440358\" stroke-linecap=\"round\" style=\"stroke:red;stroke-width:1\" /><line x1=\"348.0332034355964\" y1=\"96.96679656440358\" x2=\"355.1042712474619\" y2=\"89.8957287525381\" stroke-linecap=\"round\" style=\"stroke:red;stroke-width:1\" /><line x1=\"355.1042712474619\" y1=\"89.8957287525381\" x2=\"362.17533905932737\" y2=\"82.82466094067263\" stroke-linecap=\"round\" style=\"stroke:red;stroke-width:1\" />\n",
       "        \n",
       "        \n",
       "        <g id=\"classic\" visibility=\"visible\" transform=\"rotate(225,362.17533905932737,82.82466094067263) translate(362.17533905932737, 82.82466094067263)\">\n",
       "<polygon points=\"-5,-4.5 0,-2.5 5,-4.5 0,4.5\" transform=\"skewX(0) scale(1,1)\" style=\"stroke:red;fill:red;stroke-width:1\" />\n",
       "</g>\n",
       "      </svg>\n",
       "    "
      ],
      "text/plain": [
       "<IPython.core.display.HTML object>"
      ]
     },
     "metadata": {},
     "output_type": "display_data"
    },
    {
     "name": "stdout",
     "output_type": "stream",
     "text": [
      "(0.0, 0.0)\n",
      "0\n",
      "('black', 'black')\n",
      "(45.0, 0.0)\n",
      "0\n",
      "('black', 'black')\n",
      "(76.82, 31.819999999999993)\n",
      "45\n",
      "('black', 'black')\n",
      "(112.17500000000001, 67.175)\n",
      "45\n",
      "('red', 'red')\n"
     ]
    }
   ],
   "source": [
    "from ColabTurtlePlus.Turtle import *\n",
    "clearscreen()\n",
    "setup(500,300)\n",
    "t = Turtle()\n",
    "print(t.position()) #객체의 상태\n",
    "print(t.heading()) #객체의 상태\n",
    "print(t.color()) #객체의 상태\n",
    "t.forward(45) # 객체의 행동\n",
    "print(t.position()) #객체의 상태\n",
    "print(t.heading()) #객체의 상태\n",
    "print(t.color()) #객체의 상태\n",
    "t.left(45) # 객체의 행동\n",
    "t.forward(45) #객체의 행동\n",
    "print(t.position()) #객체의 상태\n",
    "print(t.heading()) #객체의 상태\n",
    "print(t.color()) #객체의 상태\n",
    "t.color(\"red\",\"red\") #객체의 행동\n",
    "t.forward(50) #객체의 행동\n",
    "print(t.position()) #객체의 상태\n",
    "print(t.heading()) #객체의 상태\n",
    "print(t.color()) #객체의 상태"
   ]
  },
  {
   "cell_type": "code",
   "execution_count": 5,
   "id": "111216fb-37ae-459c-8ecc-0457e7ad695b",
   "metadata": {},
   "outputs": [
    {
     "data": {
      "text/html": [
       "\n",
       "      <svg width=\"500\" height=\"300\">  \n",
       "        <rect width=\"100%\" height=\"100%\" style=\"fill:white;stroke:;stroke-width:1\"/>\n",
       "        \n",
       "        \n",
       "        <line x1=\"250.0\" y1=\"150.0\" x2=\"295.0\" y2=\"150.0\" stroke-linecap=\"round\" style=\"stroke:black;stroke-width:1\" /><line x1=\"295.0\" y1=\"150.0\" x2=\"326.82\" y2=\"118.18\" stroke-linecap=\"round\" style=\"stroke:black;stroke-width:1\" /><line x1=\"326.82\" y1=\"118.18\" x2=\"333.89106781186547\" y2=\"111.10893218813453\" stroke-linecap=\"round\" style=\"stroke:red;stroke-width:1\" /><line x1=\"333.89106781186547\" y1=\"111.10893218813453\" x2=\"340.96213562373094\" y2=\"104.03786437626906\" stroke-linecap=\"round\" style=\"stroke:red;stroke-width:1\" /><line x1=\"340.96213562373094\" y1=\"104.03786437626906\" x2=\"348.0332034355964\" y2=\"96.96679656440358\" stroke-linecap=\"round\" style=\"stroke:red;stroke-width:1\" /><line x1=\"348.0332034355964\" y1=\"96.96679656440358\" x2=\"355.1042712474619\" y2=\"89.8957287525381\" stroke-linecap=\"round\" style=\"stroke:red;stroke-width:1\" /><line x1=\"355.1042712474619\" y1=\"89.8957287525381\" x2=\"362.17533905932737\" y2=\"82.82466094067263\" stroke-linecap=\"round\" style=\"stroke:red;stroke-width:1\" />\n",
       "        \n",
       "        \n",
       "        <g id=\"classic\" visibility=\"visible\" transform=\"rotate(225,362.17533905932737,82.82466094067263) translate(362.17533905932737, 82.82466094067263)\">\n",
       "<polygon points=\"-5,-4.5 0,-2.5 5,-4.5 0,4.5\" transform=\"skewX(0) scale(1,1)\" style=\"stroke:red;fill:red;stroke-width:1\" />\n",
       "</g>\n",
       "      </svg>\n",
       "    "
      ],
      "text/plain": [
       "<IPython.core.display.HTML object>"
      ]
     },
     "metadata": {},
     "output_type": "display_data"
    },
    {
     "name": "stdout",
     "output_type": "stream",
     "text": [
      "(0.0, 0.0)\n",
      "0\n",
      "('black', 'black')\n",
      "(45.0, 0.0)\n",
      "0\n",
      "('black', 'black')\n",
      "(76.82, 31.819999999999993)\n",
      "45\n",
      "('black', 'black')\n",
      "(112.17500000000001, 67.175)\n",
      "45\n",
      "('red', 'red')\n"
     ]
    }
   ],
   "source": [
    "def printStatus(turtle):\n",
    "    print(turtle.position())\n",
    "    print(turtle.heading())\n",
    "    print(turtle.color())\n",
    "\n",
    "clearscreen()\n",
    "setup(500,300)\n",
    "t = Turtle()\n",
    "printStatus(t)\n",
    "t.forward(45)\n",
    "printStatus(t)\n",
    "t.left(45)\n",
    "t.forward(45)\n",
    "printStatus(t)\n",
    "t.color(\"red\",\"red\")\n",
    "t.forward(50)\n",
    "printStatus(t)"
   ]
  },
  {
   "cell_type": "markdown",
   "id": "50dd8193-c1ef-4f5b-9de8-1b8fee850b6c",
   "metadata": {
    "tags": []
   },
   "source": [
    "## 연습문제"
   ]
  },
  {
   "cell_type": "markdown",
   "id": "996c3355-10c7-452d-96cd-ece3ef8c6fa6",
   "metadata": {},
   "source": [
    "높이를 입력하면 높이만큼 다음 그림이 만들어지는 함수를 설계해 보시오.  \n",
    "* 너비는 10으로 통일  \n",
    "* 입력값(객체, 높이)"
   ]
  },
  {
   "cell_type": "code",
   "execution_count": 47,
   "id": "0a4b8a52-14ed-401b-a39e-cfc504ae9a91",
   "metadata": {},
   "outputs": [
    {
     "data": {
      "text/html": [
       "\n",
       "      <svg width=\"500\" height=\"300\">  \n",
       "        <rect width=\"100%\" height=\"100%\" style=\"fill:white;stroke:;stroke-width:1\"/>\n",
       "        \n",
       "        \n",
       "        \n",
       "        \n",
       "        \n",
       "        <g id=\"classic\" visibility=\"visible\" transform=\"rotate(-90,250.0,150.0) translate(250.0, 150.0)\">\n",
       "<polygon points=\"-5,-4.5 0,-2.5 5,-4.5 0,4.5\" transform=\"skewX(0) scale(1,1)\" style=\"stroke:black;fill:black;stroke-width:1\" />\n",
       "</g><g id=\"classic\" visibility=\"visible\" transform=\"rotate(-90,250.0,150.0) translate(250.0, 150.0)\">\n",
       "<polygon points=\"-5,-4.5 0,-2.5 5,-4.5 0,4.5\" transform=\"skewX(0) scale(1,1)\" style=\"stroke:black;fill:black;stroke-width:1\" />\n",
       "</g>\n",
       "      </svg>\n",
       "    "
      ],
      "text/plain": [
       "<IPython.core.display.HTML object>"
      ]
     },
     "metadata": {},
     "output_type": "display_data"
    }
   ],
   "source": [
    "## 이 부분을 작성해주세요.\n",
    "from ColabTurtlePlus.Turtle import *\n",
    "\n",
    "clearscreen()\n",
    "setup(500,300)\n",
    "t = Turtle()\n",
    "\n",
    "def oneblock(turtle, height):\n",
    "    ##  다음 부분을 작성하세요:"
   ]
  },
  {
   "cell_type": "markdown",
   "id": "b8cb18a8-0b2a-49f3-ab62-c5eab2e8f08f",
   "metadata": {
    "tags": []
   },
   "source": [
    "## 연습문제"
   ]
  },
  {
   "cell_type": "markdown",
   "id": "fb819c34-7654-4fa8-93d0-013e348db8ba",
   "metadata": {},
   "source": [
    "다음과 같이 리스트 숫자 값을 입력하면 히스토그램이 그려지는 함수를 설계해보시오.  \n",
    "* 힌트: 위에서 작성한 함수를 다시 활용할 것"
   ]
  },
  {
   "cell_type": "code",
   "execution_count": 48,
   "id": "a9b6fbbb-32cd-4782-942e-3836b9328894",
   "metadata": {},
   "outputs": [],
   "source": [
    "def histogram(turtle, block_list):\n",
    "    clearscreen()\n",
    "    setup(500,300)    \n",
    "    ## 이 부분을 작성해주세요.\n",
    "    \n",
    "    "
   ]
  },
  {
   "cell_type": "code",
   "execution_count": 50,
   "id": "7e8c2868-aa26-4d38-85a2-761e7699b912",
   "metadata": {},
   "outputs": [
    {
     "data": {
      "text/html": [
       "\n",
       "      <svg width=\"500\" height=\"300\">  \n",
       "        <rect width=\"100%\" height=\"100%\" style=\"fill:white;stroke:;stroke-width:1\"/>\n",
       "        \n",
       "        \n",
       "        \n",
       "        \n",
       "        \n",
       "        \n",
       "      </svg>\n",
       "    "
      ],
      "text/plain": [
       "<IPython.core.display.HTML object>"
      ]
     },
     "metadata": {},
     "output_type": "display_data"
    }
   ],
   "source": [
    "t = Turtle()\n",
    "xs = [48,117,200,240,160,260,220]\n",
    "histogram(t, xs) ## 실행시 히스토그램이 그려져야 함."
   ]
  }
 ],
 "metadata": {
  "kernelspec": {
   "display_name": "Python 3 (ipykernel)",
   "language": "python",
   "name": "python3"
  },
  "language_info": {
   "codemirror_mode": {
    "name": "ipython",
    "version": 3
   },
   "file_extension": ".py",
   "mimetype": "text/x-python",
   "name": "python",
   "nbconvert_exporter": "python",
   "pygments_lexer": "ipython3",
   "version": "3.8.10"
  },
  "toc": {
   "base_numbering": 1,
   "nav_menu": {},
   "number_sections": false,
   "sideBar": true,
   "skip_h1_title": false,
   "title_cell": "Table of Contents",
   "title_sidebar": "Contents",
   "toc_cell": false,
   "toc_position": {},
   "toc_section_display": true,
   "toc_window_display": false
  }
 },
 "nbformat": 4,
 "nbformat_minor": 5
}
